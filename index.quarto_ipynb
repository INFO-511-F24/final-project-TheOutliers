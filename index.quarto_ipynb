{
  "cells": [
    {
      "cell_type": "markdown",
      "metadata": {},
      "source": [
        "---\n",
        "title: \"Exploring income and physical activity disparities in the US\"\n",
        "subtitle: \"INFO 511 - Fall 2024 - Final Project\"\n",
        "author: \n",
        "  - name: \"The Outliers\"\n",
        "    affiliations:\n",
        "      - name: \"School of Information, University of Arizona\"\n",
        "description: \"Using a dataset from the CDC of nutrition, physical activity, and obesity records, we will explore the possibility of a relationship between income and physical activity and examine its direction and strength.\"\n",
        "format:\n",
        "   html:\n",
        "    code-tools: true\n",
        "    code-overflow: wrap\n",
        "    embed-resources: true\n",
        "editor: visual\n",
        "execute:\n",
        "  warning: false\n",
        "  echo: false\n",
        "jupyter: python3\n",
        "---\n",
        "\n",
        "## Abstract\n",
        "\n",
        "In this Final Project for INFO 511: Fundamentals of Data Science, we set out to investigate the potential relationship between physical activity and income level. Through analysis of historical health survey data, we attempt to better understand whether there is a visible trend or relationship between socioeconomic status and leisure-time physical activity in US adults.\n",
        "\n",
        "## Introduction\n",
        "\n",
        "Understanding the relationship between socioeconomic status and health behaviors is necessary for addressing disparities in public health outcomes. Our project seeks to understand whether higher-income populations consistently have more time for physical activity than lower income populations using a dataset from the Centers for Disease Control and Prevention (CDC). The dataset is specifically from the Behavioral Risk Factor Surveillance System project and was obtained from phone surveys conducted between 2011 and 2023. The whole dataset offers insights into physical activity, nutrition, and obesity trends among U.S. residents aged 18 and older. For the purpose of this project, we are focusing on the survey questions related to physical activity. The data is stratified by factors such as age, education, gender, income, and race/ethnicity.\n",
        "\n",
        "## Research Question\n",
        "\n",
        "**Do higher-income populations have more time for physical activity than lower income populations?**\n",
        "\n",
        "We hypothesize that this is true, higher income populations have more time for physical activity. Therefore, populations will engage in more physical activity as their income level increases (positive relationship).\n",
        "\n",
        "## Data\n",
        "\n",
        "Dataset: [Nutrition, Physical Activity, and Obesity - Behavioral Risk Factor Surveillance System](https://chronicdata.cdc.gov/Nutrition-Physical-Activity-and-Obesity/Nutrition-Physical-Activity-and-Obesity-Behavioral/hn4x-zwk7/about_data)\n",
        "\n",
        "This dataset is hosted by the United States Center for Disease Control and was obtained from the Behavioral Risk Factor Surveillance System, a CDC project consisting of health-related phone surveys. The original dataset consists of 104,000 rows and 33 columns. Descriptions of all columns are available on the link above. Each row represents a combination of a year, state, survey question, and percent of individuals who are positively identified for that question, along with stratification. Data_Value contains the corresponding value collected for each survey question. The categories for stratification are Age Range, Education, Gender, Income, Race/Ethnicity, and Total. This dataset includes observations for the years 2011-2023. Percentages and data are not included for groups with insufficient sample sizes.\n",
        "\n",
        "The main columns of interest for our research question are:\n",
        "\n",
        "-   YearStart and YearEnd: The year the data was collected. These are the same for every row.\n",
        "-   LocationAbbr and LocationDesc: Contains the abbreviation for the data where the data was collected.\n",
        "-   Topic: Contains the topic the variable being measured falls into. For our research question, we are interested in the topic \"Physical Activity - Behavior\"\n",
        "-   Question: What is being measured. Within \"Physical Activity - Behavior\" there are 5 questions:\n",
        "    -   Percent of adults who achieve at least 150 minutes a week of moderate-intensity aerobic physical activity or 75 minutes a week of vigorous-intensity aerobic physical activity and engage in muscle-strengthening activities on 2 or more days a week\n",
        "    -   Percent of adults who engage in no leisure-time physical activity\n",
        "    -   Percent of adults who achieve at least 150 minutes a week of moderate-intensity aerobic physical activity or 75 minutes a week of vigorous-intensity aerobic activity (or an equivalent combination)\n",
        "    -   Percent of adults who engage in muscle-strengthening activities on 2 or more days a week\n",
        "    -   Percent of adults who achieve at least 300 minutes a week of moderate-intensity aerobic physical activity or 150 minutes a week of vigorous-intensity aerobic activity (or an equivalent combination)\n",
        "-   Data_Value: The value being measured by the survey, in this case for these specific questions it will be a percentage.\n",
        "-   StratificationCategory1: What variable the data is being stratified by. Depending on the value in this column, it will contain a value in the columns \"Race\", \"Age (years)\", \"Income\", etc. For our research question we are interested in the levels in Income, such as 'Less than \\$15,000', '\\$35,000 - \\$49,999', etc.\n",
        "-   Income: Contains the income level.\n"
      ],
      "id": "010e7c92"
    },
    {
      "cell_type": "code",
      "metadata": {},
      "source": [
        "import pandas as pd\n",
        "data = pd.read_csv('data/Nutrition.csv')\n",
        "data.head()"
      ],
      "id": "d007bf69",
      "execution_count": null,
      "outputs": []
    },
    {
      "cell_type": "code",
      "metadata": {},
      "source": [
        "data.info()"
      ],
      "id": "f9fa0fca",
      "execution_count": null,
      "outputs": []
    },
    {
      "cell_type": "markdown",
      "metadata": {},
      "source": [
        "### Data Cleaning and Wrangling, EDA\n",
        "\n",
        "The columns YearStart and YearEnd always contain the same values so one of these columns can be dropped. We are only interested in the rows containing questions related to physical activity. Specifically, we are interested in the rows corresponding to the value in column `Question` that describes: \"Percent of adults who engage in no leisure-time physical activity\". There were five measurements collected related to physical activity from the phone surveys from which the dataset was derived, though not all of these questions were asked every year. The following statements are how the measurements were described in the `Question` column, but were not the way the questions were presented to participants over the phone. The exact wording of the questions is available on the [Behavioral Risk Factor Surveillance System website](https://www.cdc.gov/brfss/questionnaires/index.htm).\n",
        "\n",
        "1.  Percent of adults who engage in no leisure-time physical activity\n",
        "\n",
        "2.  Percent of adults who achieve at least 150 minutes a week of moderate-intensity aerobic physical activity or 75 minutes a week of vigorous-intensity aerobic activity (or an equivalent combination)\n",
        "\n",
        "3.  Percent of adults who engage in muscle-strengthening activities on 2 or more days a week\n",
        "\n",
        "4.  Percent of adults who achieve at least 300 minutes a week of moderate-intensity aerobic physical activity or 150 minutes a week of vigorous-intensity aerobic activity (or an equivalent combination)\n",
        "\n",
        "5.  Percent of adults who achieve at least 150 minutes a week of moderate-intensity aerobic physical activity or 75 minutes a week of vigorous-intensity aerobic physical activity and engage in muscle-strengthening activities on 2 or more days a week\n",
        "\n",
        "There are multiple columns containing the categories for stratification, such as education levels in the column `Education`. To answer our research question, we are most interested in the `Income` column. The data can also be separated by US state using the `LocationAbbr` (state abbreviation, i.e. \"AZ\") or `LocationDesc` (full state text, i.e. \"Arizona\") columns. There are also national measurements, using the abbreviation \"US\" or full text \"National\".\n",
        "\n",
        "Some of the columns contained missing values. Missing values were dropped for the column `Data_Value` because the percentage values in this column were the focus of our analysis, and we were not interested in the years where this question was not measured. One abnormality of note in this dataset was the column `Data_Value_Unit`. This column was described as containing the unit of measurement for `Data_Value`, but this was not the case as the column contained years followed by a period. This may be indicative of a data entry error.\n"
      ],
      "id": "50509f48"
    },
    {
      "cell_type": "code",
      "metadata": {},
      "source": [
        "data.loc[data['YearStart'] != data['YearEnd']]"
      ],
      "id": "f178820b",
      "execution_count": null,
      "outputs": []
    },
    {
      "cell_type": "code",
      "metadata": {},
      "source": [
        "activity = data.drop(columns='YearEnd')"
      ],
      "id": "b3c420e9",
      "execution_count": null,
      "outputs": []
    },
    {
      "cell_type": "code",
      "metadata": {},
      "source": [
        "activity = activity.loc[activity['Topic'] == 'Physical Activity - Behavior']\n",
        "activity.drop(columns=[\"Total\", \"Education\", \"Age(years)\", \"Gender\", \"Race/Ethnicity\", \"GeoLocation\"], inplace=True)\n",
        "activity = activity[activity['StratificationCategory1'] == \"Income\"]\n",
        "activity.info()"
      ],
      "id": "33701e52",
      "execution_count": null,
      "outputs": []
    },
    {
      "cell_type": "markdown",
      "metadata": {},
      "source": [
        "#### Encoding income as a numeric value\n",
        "\n",
        "The income level of the participants is encoded in the dataset as a string value. The income levels were placed into the following bins:\n",
        "\n",
        "-   Less than \\$15,000\n",
        "\n",
        "-   \\$15,000 - \\$24,999\n",
        "\n",
        "-   \\$25,000 - \\$34,999\n",
        "\n",
        "-   \\$35,000 - \\$49,999\n",
        "\n",
        "-   \\$50,000 - \\$74,999\n",
        "\n",
        "-   \\$75,000 or greater\n",
        "\n",
        "This can be used as a nominal ordinal variable, but to do linear regression this must be converted to a numeric variable. For this project, we encoded the income as the first number in the range, such as 15,000 for \\$15,000 - \\$24,999.\n"
      ],
      "id": "480c8d73"
    },
    {
      "cell_type": "code",
      "metadata": {},
      "source": [
        "# maps income ranges to numeric values\n",
        "income_dict = {'Less than $15,000':0,\n",
        "  '$15,000 - $24,999':15,\n",
        "  '$25,000 - $34,999':25, \n",
        "  \"$35,000 - $49,999\":35, \n",
        "  '$50,000 - $74,999':50, \n",
        "  '$75,000 or greater':75,\n",
        "        }\n",
        "\n",
        "# removes data not reported\n",
        "activity_clean = activity.loc[activity['Income'] != 'Data not reported']\n",
        "\n",
        "# creates numeric column of income based on mappings\n",
        "activity_clean['numeric_income'] = activity_clean['Income'].replace(income_dict)"
      ],
      "id": "f54ac9d6",
      "execution_count": null,
      "outputs": []
    },
    {
      "cell_type": "markdown",
      "metadata": {},
      "source": [
        "## Visualization of Dataset\n",
        "\n",
        "### Overview of National Levels of Leisure-Time Physical Activity\n"
      ],
      "id": "b5341a72"
    },
    {
      "cell_type": "code",
      "metadata": {},
      "source": [
        "# onyl include question of interest\n",
        "noleisuretime = activity_clean[activity_clean['Question']=='Percent of adults who engage in no leisure-time physical activity']\n",
        "\n",
        "# Stratified by income\n",
        "noleisuretime_income = noleisuretime[noleisuretime['StratificationCategory1']=='Income']\n",
        "\n",
        "# Only include national data, disregarding results from individual states\n",
        "noleisuretime_income_national = noleisuretime_income[noleisuretime_income['LocationDesc']==\"National\"]\n"
      ],
      "id": "e7edb75d",
      "execution_count": null,
      "outputs": []
    },
    {
      "cell_type": "code",
      "metadata": {},
      "source": [
        "import seaborn as sns\n",
        "import matplotlib.pyplot as plt"
      ],
      "id": "7dec11d2",
      "execution_count": null,
      "outputs": []
    },
    {
      "cell_type": "code",
      "metadata": {},
      "source": [
        "#manual order for income levels\n",
        "order = ['Less than $15,000',\n",
        "  '$15,000 - $24,999',\n",
        "  '$25,000 - $34,999', \n",
        "  \"$35,000 - $49,999\", \n",
        "  '$50,000 - $74,999', \n",
        "  '$75,000 or greater']\n",
        "\n",
        "# order data \n",
        "noleisuretime_income_national['Income'] = pd.Categorical(noleisuretime_income_national['Income'],categories=order, ordered=True)\n",
        "\n",
        "# plot\n",
        "sns.set_style('whitegrid')\n",
        "plt.figure(figsize=(8,6))\n",
        "\n",
        "sns.violinplot(data=noleisuretime_income_national, x=\"Income\", y=\"Data_Value\", palette='viridis')\n",
        "plt.xticks(rotation=-20)\n",
        "plt.ylabel('Percent')\n",
        "plt.title('From 2011-Percent of US Adults Who Do Not Engage in Leisure-Time Physical Activity')\n",
        "plt.text(2.1, -1, 'Source: CDC, Behavioral Risk Factor Surveillance System (2011 - 2023)', fontsize = 8)\n",
        "\n",
        "plt.show()"
      ],
      "id": "a950d961",
      "execution_count": null,
      "outputs": []
    },
    {
      "cell_type": "markdown",
      "metadata": {},
      "source": [
        "This violin plot shows the distribution and density of the data for each income group, with the y-axis representing the percentage of adults not engaging in physical activity and the x-axis denoting income categories. The lowest income category, \"Less than \\$15,000\", has the highest percentage of adults who do not engage in any leisure-time physical activity, and the opposite is true for the highest income category, \"\\$75,000 or greater\", which has the most adults who do engage in leisure-time physical activity.\n",
        "\n",
        "This plot provides a general overview of the trends in the physical activity of American adults as related to income. Further analysis of this dataset shows the same association between higher income and higher percentages of adults who engage in physical activity.\n"
      ],
      "id": "34ffa359"
    },
    {
      "cell_type": "code",
      "metadata": {},
      "source": [
        "question_mapping = {\n",
        "    'Percent of adults who achieve at least 150 minutes a week of moderate-intensity aerobic physical activity or 75 minutes a week of vigorous-intensity aerobic physical activity and engage in muscle-strengthening activities on 2 or more days a week': 'Moderate Exercise & Muscle Strengthening',\n",
        "    'Percent of adults who engage in muscle-strengthening activities on 2 or more days a week': 'Muscle Strengthening',\n",
        "    'Percent of adults who engage in no leisure-time physical activity': 'No Leisure-time Physical Activity',\n",
        "    'Percent of adults who achieve at least 150 minutes a week of moderate-intensity aerobic physical activity or 75 minutes a week of vigorous-intensity aerobic activity (or an equivalent combination)': 'Moderate Exercise',\n",
        "    'Percent of adults who achieve at least 300 minutes a week of moderate-intensity aerobic physical activity or 150 minutes a week of vigorous-intensity aerobic activity (or an equivalent combination)': 'Intense exercise'\n",
        "}\n",
        "\n",
        "activity_clean['Short_Question'] = activity_clean['Question'].map(question_mapping)\n",
        "activity_clean['Question'].map(question_mapping)\n",
        "\n",
        "national = activity_clean[activity_clean['LocationDesc'] == 'National']\n",
        "\n",
        "g = sns.FacetGrid(national, col=\"Short_Question\", hue='Income', hue_order=order, col_wrap=3, aspect=1.5, palette='viridis')\n",
        "g.map(sns.regplot, 'YearStart', 'Data_Value', )\n",
        "\n",
        "# Rotate the x-axis labels for better readability\n",
        "for ax in g.axes.flat:\n",
        "    for label in ax.get_xticklabels():\n",
        "        label.set_rotation(45)\n",
        "\n",
        "# Enhancing the plot with titles and labels\n",
        "g.set_titles('{col_name}')  # Set titles to be each question\n",
        "g.set_axis_labels('Year', 'Percent of Pop')  # Set common axis labels\n",
        "\n",
        "# Adjust the top space to accommodate title\n",
        "plt.subplots_adjust(top=0.9)\n",
        "g.fig.suptitle('Percent of Population for Each Exercise Class Over Years')\n",
        "\n",
        "# Adding the legend\n",
        "g.add_legend(title='Income Bracket')\n",
        "# Show the plot\n",
        "plt.show()"
      ],
      "id": "d3b8584a",
      "execution_count": null,
      "outputs": []
    },
    {
      "cell_type": "code",
      "metadata": {},
      "source": [
        "from sklearn.linear_model import LinearRegression\n",
        "\n",
        "sns.set_style(style='whitegrid')\n",
        "sns.scatterplot(data=noleisuretime, x='numeric_income', y='Data_Value', alpha=0.1)\n",
        "\n",
        "model = LinearRegression()\n",
        "x = no_leisure_time[['numeric_income']]\n",
        "y = no_leisure_time['Data_Value']\n",
        "model.fit(x, y)\n",
        "\n",
        "slope = model.coef_[0]\n",
        "intercept = model.intercept_\n",
        "r_squared = model.score(x, y)\n",
        "\n",
        "x_range = np.linspace(x.min(), x.max(), 100)  # Range of x values\n",
        "y_pred = model.predict(x_range)  # Predicted y values\n",
        "plt.plot(x_range, y_pred, color='red', label=f\"y = {slope:.2f}x + {intercept:.2f}, $R^2$ = {r_squared:.2f}\")\n",
        "\n",
        "plt.title(\"Percent of sample population who engage in no leisure time activity\", fontsize=14)\n",
        "plt.xlabel(\"Minimum Income in Range (i.e. 15,000 for \\$15,000 - \\$24,999)\", fontsize=12)\n",
        "plt.ylabel(\"Percent of Sample Population\", fontsize=12)\n",
        "plt.legend()\n",
        "plt.show()"
      ],
      "id": "6def310c",
      "execution_count": null,
      "outputs": []
    }
  ],
  "metadata": {
    "kernelspec": {
      "name": "python3",
      "language": "python",
      "display_name": "Python 3 (ipykernel)",
      "path": "C:\\Users\\Colorfulgeek\\anaconda3\\envs\\DataScienceClass\\share\\jupyter\\kernels\\python3"
    }
  },
  "nbformat": 4,
  "nbformat_minor": 5
}