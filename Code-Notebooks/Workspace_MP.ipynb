{
 "cells": [
  {
   "cell_type": "code",
   "execution_count": 210,
   "metadata": {},
   "outputs": [],
   "source": [
    "import pandas as pd\n",
    "import numpy as np"
   ]
  },
  {
   "cell_type": "code",
   "execution_count": 211,
   "metadata": {},
   "outputs": [],
   "source": [
    "activity = pd.read_csv('../data/Nutrition.csv')"
   ]
  },
  {
   "cell_type": "code",
   "execution_count": 212,
   "metadata": {},
   "outputs": [
    {
     "data": {
      "text/html": [
       "<div>\n",
       "<style scoped>\n",
       "    .dataframe tbody tr th:only-of-type {\n",
       "        vertical-align: middle;\n",
       "    }\n",
       "\n",
       "    .dataframe tbody tr th {\n",
       "        vertical-align: top;\n",
       "    }\n",
       "\n",
       "    .dataframe thead th {\n",
       "        text-align: right;\n",
       "    }\n",
       "</style>\n",
       "<table border=\"1\" class=\"dataframe\">\n",
       "  <thead>\n",
       "    <tr style=\"text-align: right;\">\n",
       "      <th></th>\n",
       "      <th>YearStart</th>\n",
       "      <th>YearEnd</th>\n",
       "      <th>LocationAbbr</th>\n",
       "      <th>LocationDesc</th>\n",
       "      <th>Datasource</th>\n",
       "      <th>Class</th>\n",
       "      <th>Topic</th>\n",
       "      <th>Question</th>\n",
       "      <th>Data_Value_Unit</th>\n",
       "      <th>Data_Value_Type</th>\n",
       "      <th>...</th>\n",
       "      <th>GeoLocation</th>\n",
       "      <th>ClassID</th>\n",
       "      <th>TopicID</th>\n",
       "      <th>QuestionID</th>\n",
       "      <th>DataValueTypeID</th>\n",
       "      <th>LocationID</th>\n",
       "      <th>StratificationCategory1</th>\n",
       "      <th>Stratification1</th>\n",
       "      <th>StratificationCategoryId1</th>\n",
       "      <th>StratificationID1</th>\n",
       "    </tr>\n",
       "  </thead>\n",
       "  <tbody>\n",
       "    <tr>\n",
       "      <th>0</th>\n",
       "      <td>2011</td>\n",
       "      <td>2011</td>\n",
       "      <td>AK</td>\n",
       "      <td>Alaska</td>\n",
       "      <td>BRFSS</td>\n",
       "      <td>Obesity / Weight Status</td>\n",
       "      <td>Obesity / Weight Status</td>\n",
       "      <td>Percent of adults aged 18 years and older who ...</td>\n",
       "      <td>2011.0</td>\n",
       "      <td>Value</td>\n",
       "      <td>...</td>\n",
       "      <td>(64.845079957001, -147.722059036)</td>\n",
       "      <td>OWS</td>\n",
       "      <td>OWS1</td>\n",
       "      <td>Q036</td>\n",
       "      <td>VALUE</td>\n",
       "      <td>2</td>\n",
       "      <td>Race/Ethnicity</td>\n",
       "      <td>2 or more races</td>\n",
       "      <td>RACE</td>\n",
       "      <td>RACE2PLUS</td>\n",
       "    </tr>\n",
       "    <tr>\n",
       "      <th>1</th>\n",
       "      <td>2011</td>\n",
       "      <td>2011</td>\n",
       "      <td>AK</td>\n",
       "      <td>Alaska</td>\n",
       "      <td>BRFSS</td>\n",
       "      <td>Obesity / Weight Status</td>\n",
       "      <td>Obesity / Weight Status</td>\n",
       "      <td>Percent of adults aged 18 years and older who ...</td>\n",
       "      <td>2011.0</td>\n",
       "      <td>Value</td>\n",
       "      <td>...</td>\n",
       "      <td>(64.845079957001, -147.722059036)</td>\n",
       "      <td>OWS</td>\n",
       "      <td>OWS1</td>\n",
       "      <td>Q036</td>\n",
       "      <td>VALUE</td>\n",
       "      <td>2</td>\n",
       "      <td>Race/Ethnicity</td>\n",
       "      <td>Other</td>\n",
       "      <td>RACE</td>\n",
       "      <td>RACEOTH</td>\n",
       "    </tr>\n",
       "    <tr>\n",
       "      <th>2</th>\n",
       "      <td>2011</td>\n",
       "      <td>2011</td>\n",
       "      <td>AK</td>\n",
       "      <td>Alaska</td>\n",
       "      <td>BRFSS</td>\n",
       "      <td>Physical Activity</td>\n",
       "      <td>Physical Activity - Behavior</td>\n",
       "      <td>Percent of adults who achieve at least 150 min...</td>\n",
       "      <td>2011.0</td>\n",
       "      <td>Value</td>\n",
       "      <td>...</td>\n",
       "      <td>(64.845079957001, -147.722059036)</td>\n",
       "      <td>PA</td>\n",
       "      <td>PA1</td>\n",
       "      <td>Q044</td>\n",
       "      <td>VALUE</td>\n",
       "      <td>2</td>\n",
       "      <td>Gender</td>\n",
       "      <td>Female</td>\n",
       "      <td>GEN</td>\n",
       "      <td>FEMALE</td>\n",
       "    </tr>\n",
       "    <tr>\n",
       "      <th>3</th>\n",
       "      <td>2011</td>\n",
       "      <td>2011</td>\n",
       "      <td>AK</td>\n",
       "      <td>Alaska</td>\n",
       "      <td>BRFSS</td>\n",
       "      <td>Obesity / Weight Status</td>\n",
       "      <td>Obesity / Weight Status</td>\n",
       "      <td>Percent of adults aged 18 years and older who ...</td>\n",
       "      <td>2011.0</td>\n",
       "      <td>Value</td>\n",
       "      <td>...</td>\n",
       "      <td>(64.845079957001, -147.722059036)</td>\n",
       "      <td>OWS</td>\n",
       "      <td>OWS1</td>\n",
       "      <td>Q036</td>\n",
       "      <td>VALUE</td>\n",
       "      <td>2</td>\n",
       "      <td>Age (years)</td>\n",
       "      <td>35 - 44</td>\n",
       "      <td>AGEYR</td>\n",
       "      <td>AGEYR3544</td>\n",
       "    </tr>\n",
       "    <tr>\n",
       "      <th>4</th>\n",
       "      <td>2011</td>\n",
       "      <td>2011</td>\n",
       "      <td>AK</td>\n",
       "      <td>Alaska</td>\n",
       "      <td>BRFSS</td>\n",
       "      <td>Obesity / Weight Status</td>\n",
       "      <td>Obesity / Weight Status</td>\n",
       "      <td>Percent of adults aged 18 years and older who ...</td>\n",
       "      <td>2011.0</td>\n",
       "      <td>Value</td>\n",
       "      <td>...</td>\n",
       "      <td>(64.845079957001, -147.722059036)</td>\n",
       "      <td>OWS</td>\n",
       "      <td>OWS1</td>\n",
       "      <td>Q037</td>\n",
       "      <td>VALUE</td>\n",
       "      <td>2</td>\n",
       "      <td>Income</td>\n",
       "      <td>$15,000 - $24,999</td>\n",
       "      <td>INC</td>\n",
       "      <td>INC1525</td>\n",
       "    </tr>\n",
       "  </tbody>\n",
       "</table>\n",
       "<p>5 rows × 33 columns</p>\n",
       "</div>"
      ],
      "text/plain": [
       "   YearStart  YearEnd LocationAbbr LocationDesc Datasource  \\\n",
       "0       2011     2011           AK       Alaska      BRFSS   \n",
       "1       2011     2011           AK       Alaska      BRFSS   \n",
       "2       2011     2011           AK       Alaska      BRFSS   \n",
       "3       2011     2011           AK       Alaska      BRFSS   \n",
       "4       2011     2011           AK       Alaska      BRFSS   \n",
       "\n",
       "                     Class                         Topic  \\\n",
       "0  Obesity / Weight Status       Obesity / Weight Status   \n",
       "1  Obesity / Weight Status       Obesity / Weight Status   \n",
       "2        Physical Activity  Physical Activity - Behavior   \n",
       "3  Obesity / Weight Status       Obesity / Weight Status   \n",
       "4  Obesity / Weight Status       Obesity / Weight Status   \n",
       "\n",
       "                                            Question  Data_Value_Unit  \\\n",
       "0  Percent of adults aged 18 years and older who ...           2011.0   \n",
       "1  Percent of adults aged 18 years and older who ...           2011.0   \n",
       "2  Percent of adults who achieve at least 150 min...           2011.0   \n",
       "3  Percent of adults aged 18 years and older who ...           2011.0   \n",
       "4  Percent of adults aged 18 years and older who ...           2011.0   \n",
       "\n",
       "  Data_Value_Type  ...                        GeoLocation  ClassID TopicID  \\\n",
       "0           Value  ...  (64.845079957001, -147.722059036)      OWS    OWS1   \n",
       "1           Value  ...  (64.845079957001, -147.722059036)      OWS    OWS1   \n",
       "2           Value  ...  (64.845079957001, -147.722059036)       PA     PA1   \n",
       "3           Value  ...  (64.845079957001, -147.722059036)      OWS    OWS1   \n",
       "4           Value  ...  (64.845079957001, -147.722059036)      OWS    OWS1   \n",
       "\n",
       "  QuestionID  DataValueTypeID  LocationID  StratificationCategory1  \\\n",
       "0       Q036            VALUE           2           Race/Ethnicity   \n",
       "1       Q036            VALUE           2           Race/Ethnicity   \n",
       "2       Q044            VALUE           2                   Gender   \n",
       "3       Q036            VALUE           2              Age (years)   \n",
       "4       Q037            VALUE           2                   Income   \n",
       "\n",
       "     Stratification1 StratificationCategoryId1 StratificationID1  \n",
       "0    2 or more races                      RACE         RACE2PLUS  \n",
       "1              Other                      RACE           RACEOTH  \n",
       "2             Female                       GEN            FEMALE  \n",
       "3            35 - 44                     AGEYR         AGEYR3544  \n",
       "4  $15,000 - $24,999                       INC           INC1525  \n",
       "\n",
       "[5 rows x 33 columns]"
      ]
     },
     "execution_count": 212,
     "metadata": {},
     "output_type": "execute_result"
    }
   ],
   "source": [
    "activity.head()"
   ]
  },
  {
   "cell_type": "code",
   "execution_count": 213,
   "metadata": {},
   "outputs": [
    {
     "name": "stdout",
     "output_type": "stream",
     "text": [
      "<class 'pandas.core.frame.DataFrame'>\n",
      "RangeIndex: 104272 entries, 0 to 104271\n",
      "Data columns (total 33 columns):\n",
      " #   Column                      Non-Null Count   Dtype  \n",
      "---  ------                      --------------   -----  \n",
      " 0   YearStart                   104272 non-null  int64  \n",
      " 1   YearEnd                     104272 non-null  int64  \n",
      " 2   LocationAbbr                104272 non-null  object \n",
      " 3   LocationDesc                104272 non-null  object \n",
      " 4   Datasource                  104272 non-null  object \n",
      " 5   Class                       104272 non-null  object \n",
      " 6   Topic                       104272 non-null  object \n",
      " 7   Question                    104272 non-null  object \n",
      " 8   Data_Value_Unit             88872 non-null   float64\n",
      " 9   Data_Value_Type             104272 non-null  object \n",
      " 10  Data_Value                  93505 non-null   float64\n",
      " 11  Data_Value_Alt              93505 non-null   float64\n",
      " 12  Data_Value_Footnote_Symbol  10767 non-null   object \n",
      " 13  Data_Value_Footnote         10767 non-null   object \n",
      " 14  Low_Confidence_Limit        93505 non-null   float64\n",
      " 15  High_Confidence_Limit       93505 non-null   float64\n",
      " 16  Sample_Size                 93505 non-null   float64\n",
      " 17  Total                       3724 non-null    object \n",
      " 18  Age(years)                  22344 non-null   object \n",
      " 19  Education                   14896 non-null   object \n",
      " 20  Gender                      7448 non-null    object \n",
      " 21  Income                      26068 non-null   object \n",
      " 22  Race/Ethnicity              29792 non-null   object \n",
      " 23  GeoLocation                 102340 non-null  object \n",
      " 24  ClassID                     104272 non-null  object \n",
      " 25  TopicID                     104272 non-null  object \n",
      " 26  QuestionID                  104272 non-null  object \n",
      " 27  DataValueTypeID             104272 non-null  object \n",
      " 28  LocationID                  104272 non-null  int64  \n",
      " 29  StratificationCategory1     104272 non-null  object \n",
      " 30  Stratification1             104272 non-null  object \n",
      " 31  StratificationCategoryId1   104272 non-null  object \n",
      " 32  StratificationID1           104272 non-null  object \n",
      "dtypes: float64(6), int64(3), object(24)\n",
      "memory usage: 26.3+ MB\n"
     ]
    }
   ],
   "source": [
    "activity.info()"
   ]
  },
  {
   "cell_type": "markdown",
   "metadata": {},
   "source": [
    "## Information about data\n",
    "Each row represents a combination of a year, state, survey question, and percent of individuals who are positively identified for that question, along with stratification. The categories for stratification are Age Range, Education, Gender, Income, Race/Ethnicity, and Total.\n",
    "\n",
    "This dataset includes observations for the years 2011-2023. Percentages and data are not included for groups with insufficient sample sizes.\n"
   ]
  },
  {
   "cell_type": "code",
   "execution_count": 214,
   "metadata": {},
   "outputs": [],
   "source": [
    "activity_clean = activity.copy()"
   ]
  },
  {
   "cell_type": "markdown",
   "metadata": {},
   "source": [
    "We are only interested in questions related to physical activity stratified by income."
   ]
  },
  {
   "cell_type": "code",
   "execution_count": 215,
   "metadata": {},
   "outputs": [
    {
     "name": "stdout",
     "output_type": "stream",
     "text": [
      "<class 'pandas.core.frame.DataFrame'>\n",
      "Index: 13930 entries, 13 to 104269\n",
      "Data columns (total 27 columns):\n",
      " #   Column                      Non-Null Count  Dtype  \n",
      "---  ------                      --------------  -----  \n",
      " 0   YearStart                   13930 non-null  int64  \n",
      " 1   YearEnd                     13930 non-null  int64  \n",
      " 2   LocationAbbr                13930 non-null  object \n",
      " 3   LocationDesc                13930 non-null  object \n",
      " 4   Datasource                  13930 non-null  object \n",
      " 5   Class                       13930 non-null  object \n",
      " 6   Topic                       13930 non-null  object \n",
      " 7   Question                    13930 non-null  object \n",
      " 8   Data_Value_Unit             11620 non-null  float64\n",
      " 9   Data_Value_Type             13930 non-null  object \n",
      " 10  Data_Value                  13775 non-null  float64\n",
      " 11  Data_Value_Alt              13775 non-null  float64\n",
      " 12  Data_Value_Footnote_Symbol  155 non-null    object \n",
      " 13  Data_Value_Footnote         155 non-null    object \n",
      " 14  Low_Confidence_Limit        13775 non-null  float64\n",
      " 15  High_Confidence_Limit       13775 non-null  float64\n",
      " 16  Sample_Size                 13775 non-null  float64\n",
      " 17  Income                      13930 non-null  object \n",
      " 18  ClassID                     13930 non-null  object \n",
      " 19  TopicID                     13930 non-null  object \n",
      " 20  QuestionID                  13930 non-null  object \n",
      " 21  DataValueTypeID             13930 non-null  object \n",
      " 22  LocationID                  13930 non-null  int64  \n",
      " 23  StratificationCategory1     13930 non-null  object \n",
      " 24  Stratification1             13930 non-null  object \n",
      " 25  StratificationCategoryId1   13930 non-null  object \n",
      " 26  StratificationID1           13930 non-null  object \n",
      "dtypes: float64(6), int64(3), object(18)\n",
      "memory usage: 3.0+ MB\n"
     ]
    }
   ],
   "source": [
    "activity_clean = activity_clean.loc[activity_clean['Topic'] == 'Physical Activity - Behavior']\n",
    "activity_clean.drop(columns=[\"Total\", \"Education\", \"Age(years)\", \"Gender\", \"Race/Ethnicity\", \"GeoLocation\"], inplace=True)\n",
    "activity_clean = activity_clean[activity_clean['StratificationCategory1'] == \"Income\"]\n",
    "activity_clean.info()"
   ]
  },
  {
   "cell_type": "markdown",
   "metadata": {},
   "source": [
    "## Dealing with Missing Values and Similar Columns"
   ]
  },
  {
   "cell_type": "markdown",
   "metadata": {},
   "source": [
    "Does YearStart always equal YearEnd?"
   ]
  },
  {
   "cell_type": "code",
   "execution_count": 216,
   "metadata": {},
   "outputs": [
    {
     "data": {
      "text/html": [
       "<div>\n",
       "<style scoped>\n",
       "    .dataframe tbody tr th:only-of-type {\n",
       "        vertical-align: middle;\n",
       "    }\n",
       "\n",
       "    .dataframe tbody tr th {\n",
       "        vertical-align: top;\n",
       "    }\n",
       "\n",
       "    .dataframe thead th {\n",
       "        text-align: right;\n",
       "    }\n",
       "</style>\n",
       "<table border=\"1\" class=\"dataframe\">\n",
       "  <thead>\n",
       "    <tr style=\"text-align: right;\">\n",
       "      <th></th>\n",
       "      <th>YearStart</th>\n",
       "      <th>YearEnd</th>\n",
       "      <th>LocationAbbr</th>\n",
       "      <th>LocationDesc</th>\n",
       "      <th>Datasource</th>\n",
       "      <th>Class</th>\n",
       "      <th>Topic</th>\n",
       "      <th>Question</th>\n",
       "      <th>Data_Value_Unit</th>\n",
       "      <th>Data_Value_Type</th>\n",
       "      <th>...</th>\n",
       "      <th>Income</th>\n",
       "      <th>ClassID</th>\n",
       "      <th>TopicID</th>\n",
       "      <th>QuestionID</th>\n",
       "      <th>DataValueTypeID</th>\n",
       "      <th>LocationID</th>\n",
       "      <th>StratificationCategory1</th>\n",
       "      <th>Stratification1</th>\n",
       "      <th>StratificationCategoryId1</th>\n",
       "      <th>StratificationID1</th>\n",
       "    </tr>\n",
       "  </thead>\n",
       "  <tbody>\n",
       "  </tbody>\n",
       "</table>\n",
       "<p>0 rows × 27 columns</p>\n",
       "</div>"
      ],
      "text/plain": [
       "Empty DataFrame\n",
       "Columns: [YearStart, YearEnd, LocationAbbr, LocationDesc, Datasource, Class, Topic, Question, Data_Value_Unit, Data_Value_Type, Data_Value, Data_Value_Alt, Data_Value_Footnote_Symbol, Data_Value_Footnote, Low_Confidence_Limit, High_Confidence_Limit , Sample_Size, Income, ClassID, TopicID, QuestionID, DataValueTypeID, LocationID, StratificationCategory1, Stratification1, StratificationCategoryId1, StratificationID1]\n",
       "Index: []\n",
       "\n",
       "[0 rows x 27 columns]"
      ]
     },
     "execution_count": 216,
     "metadata": {},
     "output_type": "execute_result"
    }
   ],
   "source": [
    "activity_clean.loc[activity_clean['YearStart'] != activity_clean['YearEnd']]"
   ]
  },
  {
   "cell_type": "markdown",
   "metadata": {},
   "source": [
    "They are always equal, so drop unnecessary column"
   ]
  },
  {
   "cell_type": "code",
   "execution_count": 217,
   "metadata": {},
   "outputs": [
    {
     "data": {
      "text/html": [
       "<div>\n",
       "<style scoped>\n",
       "    .dataframe tbody tr th:only-of-type {\n",
       "        vertical-align: middle;\n",
       "    }\n",
       "\n",
       "    .dataframe tbody tr th {\n",
       "        vertical-align: top;\n",
       "    }\n",
       "\n",
       "    .dataframe thead th {\n",
       "        text-align: right;\n",
       "    }\n",
       "</style>\n",
       "<table border=\"1\" class=\"dataframe\">\n",
       "  <thead>\n",
       "    <tr style=\"text-align: right;\">\n",
       "      <th></th>\n",
       "      <th>YearStart</th>\n",
       "      <th>LocationAbbr</th>\n",
       "      <th>LocationDesc</th>\n",
       "      <th>Datasource</th>\n",
       "      <th>Class</th>\n",
       "      <th>Topic</th>\n",
       "      <th>Question</th>\n",
       "      <th>Data_Value_Unit</th>\n",
       "      <th>Data_Value_Type</th>\n",
       "      <th>Data_Value</th>\n",
       "      <th>...</th>\n",
       "      <th>Income</th>\n",
       "      <th>ClassID</th>\n",
       "      <th>TopicID</th>\n",
       "      <th>QuestionID</th>\n",
       "      <th>DataValueTypeID</th>\n",
       "      <th>LocationID</th>\n",
       "      <th>StratificationCategory1</th>\n",
       "      <th>Stratification1</th>\n",
       "      <th>StratificationCategoryId1</th>\n",
       "      <th>StratificationID1</th>\n",
       "    </tr>\n",
       "  </thead>\n",
       "  <tbody>\n",
       "    <tr>\n",
       "      <th>13</th>\n",
       "      <td>2011</td>\n",
       "      <td>AK</td>\n",
       "      <td>Alaska</td>\n",
       "      <td>BRFSS</td>\n",
       "      <td>Physical Activity</td>\n",
       "      <td>Physical Activity - Behavior</td>\n",
       "      <td>Percent of adults who achieve at least 150 min...</td>\n",
       "      <td>2011.0</td>\n",
       "      <td>Value</td>\n",
       "      <td>17.3</td>\n",
       "      <td>...</td>\n",
       "      <td>$15,000 - $24,999</td>\n",
       "      <td>PA</td>\n",
       "      <td>PA1</td>\n",
       "      <td>Q044</td>\n",
       "      <td>VALUE</td>\n",
       "      <td>2</td>\n",
       "      <td>Income</td>\n",
       "      <td>$15,000 - $24,999</td>\n",
       "      <td>INC</td>\n",
       "      <td>INC1525</td>\n",
       "    </tr>\n",
       "    <tr>\n",
       "      <th>16</th>\n",
       "      <td>2011</td>\n",
       "      <td>AK</td>\n",
       "      <td>Alaska</td>\n",
       "      <td>BRFSS</td>\n",
       "      <td>Physical Activity</td>\n",
       "      <td>Physical Activity - Behavior</td>\n",
       "      <td>Percent of adults who engage in no leisure-tim...</td>\n",
       "      <td>2011.0</td>\n",
       "      <td>Value</td>\n",
       "      <td>19.2</td>\n",
       "      <td>...</td>\n",
       "      <td>$50,000 - $74,999</td>\n",
       "      <td>PA</td>\n",
       "      <td>PA1</td>\n",
       "      <td>Q047</td>\n",
       "      <td>VALUE</td>\n",
       "      <td>2</td>\n",
       "      <td>Income</td>\n",
       "      <td>$50,000 - $74,999</td>\n",
       "      <td>INC</td>\n",
       "      <td>INC5075</td>\n",
       "    </tr>\n",
       "    <tr>\n",
       "      <th>40</th>\n",
       "      <td>2011</td>\n",
       "      <td>AK</td>\n",
       "      <td>Alaska</td>\n",
       "      <td>BRFSS</td>\n",
       "      <td>Physical Activity</td>\n",
       "      <td>Physical Activity - Behavior</td>\n",
       "      <td>Percent of adults who achieve at least 150 min...</td>\n",
       "      <td>2011.0</td>\n",
       "      <td>Value</td>\n",
       "      <td>59.3</td>\n",
       "      <td>...</td>\n",
       "      <td>$50,000 - $74,999</td>\n",
       "      <td>PA</td>\n",
       "      <td>PA1</td>\n",
       "      <td>Q043</td>\n",
       "      <td>VALUE</td>\n",
       "      <td>2</td>\n",
       "      <td>Income</td>\n",
       "      <td>$50,000 - $74,999</td>\n",
       "      <td>INC</td>\n",
       "      <td>INC5075</td>\n",
       "    </tr>\n",
       "    <tr>\n",
       "      <th>42</th>\n",
       "      <td>2011</td>\n",
       "      <td>AK</td>\n",
       "      <td>Alaska</td>\n",
       "      <td>BRFSS</td>\n",
       "      <td>Physical Activity</td>\n",
       "      <td>Physical Activity - Behavior</td>\n",
       "      <td>Percent of adults who engage in muscle-strengt...</td>\n",
       "      <td>2011.0</td>\n",
       "      <td>Value</td>\n",
       "      <td>38.0</td>\n",
       "      <td>...</td>\n",
       "      <td>$75,000 or greater</td>\n",
       "      <td>PA</td>\n",
       "      <td>PA1</td>\n",
       "      <td>Q046</td>\n",
       "      <td>VALUE</td>\n",
       "      <td>2</td>\n",
       "      <td>Income</td>\n",
       "      <td>$75,000 or greater</td>\n",
       "      <td>INC</td>\n",
       "      <td>INC75PLUS</td>\n",
       "    </tr>\n",
       "    <tr>\n",
       "      <th>55</th>\n",
       "      <td>2011</td>\n",
       "      <td>AK</td>\n",
       "      <td>Alaska</td>\n",
       "      <td>BRFSS</td>\n",
       "      <td>Physical Activity</td>\n",
       "      <td>Physical Activity - Behavior</td>\n",
       "      <td>Percent of adults who achieve at least 300 min...</td>\n",
       "      <td>2011.0</td>\n",
       "      <td>Value</td>\n",
       "      <td>44.8</td>\n",
       "      <td>...</td>\n",
       "      <td>$75,000 or greater</td>\n",
       "      <td>PA</td>\n",
       "      <td>PA1</td>\n",
       "      <td>Q045</td>\n",
       "      <td>VALUE</td>\n",
       "      <td>2</td>\n",
       "      <td>Income</td>\n",
       "      <td>$75,000 or greater</td>\n",
       "      <td>INC</td>\n",
       "      <td>INC75PLUS</td>\n",
       "    </tr>\n",
       "    <tr>\n",
       "      <th>...</th>\n",
       "      <td>...</td>\n",
       "      <td>...</td>\n",
       "      <td>...</td>\n",
       "      <td>...</td>\n",
       "      <td>...</td>\n",
       "      <td>...</td>\n",
       "      <td>...</td>\n",
       "      <td>...</td>\n",
       "      <td>...</td>\n",
       "      <td>...</td>\n",
       "      <td>...</td>\n",
       "      <td>...</td>\n",
       "      <td>...</td>\n",
       "      <td>...</td>\n",
       "      <td>...</td>\n",
       "      <td>...</td>\n",
       "      <td>...</td>\n",
       "      <td>...</td>\n",
       "      <td>...</td>\n",
       "      <td>...</td>\n",
       "      <td>...</td>\n",
       "    </tr>\n",
       "    <tr>\n",
       "      <th>104247</th>\n",
       "      <td>2023</td>\n",
       "      <td>WY</td>\n",
       "      <td>Wyoming</td>\n",
       "      <td>BRFSS</td>\n",
       "      <td>Physical Activity</td>\n",
       "      <td>Physical Activity - Behavior</td>\n",
       "      <td>Percent of adults who achieve at least 300 min...</td>\n",
       "      <td>NaN</td>\n",
       "      <td>Value</td>\n",
       "      <td>52.9</td>\n",
       "      <td>...</td>\n",
       "      <td>$50,000 - $74,999</td>\n",
       "      <td>PA</td>\n",
       "      <td>PA1</td>\n",
       "      <td>Q045</td>\n",
       "      <td>VALUE</td>\n",
       "      <td>56</td>\n",
       "      <td>Income</td>\n",
       "      <td>$50,000 - $74,999</td>\n",
       "      <td>INC</td>\n",
       "      <td>INC5075</td>\n",
       "    </tr>\n",
       "    <tr>\n",
       "      <th>104249</th>\n",
       "      <td>2023</td>\n",
       "      <td>WY</td>\n",
       "      <td>Wyoming</td>\n",
       "      <td>BRFSS</td>\n",
       "      <td>Physical Activity</td>\n",
       "      <td>Physical Activity - Behavior</td>\n",
       "      <td>Percent of adults who engage in muscle-strengt...</td>\n",
       "      <td>NaN</td>\n",
       "      <td>Value</td>\n",
       "      <td>31.9</td>\n",
       "      <td>...</td>\n",
       "      <td>Less than $15,000</td>\n",
       "      <td>PA</td>\n",
       "      <td>PA1</td>\n",
       "      <td>Q046</td>\n",
       "      <td>VALUE</td>\n",
       "      <td>56</td>\n",
       "      <td>Income</td>\n",
       "      <td>Less than $15,000</td>\n",
       "      <td>INC</td>\n",
       "      <td>INCLESS15</td>\n",
       "    </tr>\n",
       "    <tr>\n",
       "      <th>104259</th>\n",
       "      <td>2023</td>\n",
       "      <td>WY</td>\n",
       "      <td>Wyoming</td>\n",
       "      <td>BRFSS</td>\n",
       "      <td>Physical Activity</td>\n",
       "      <td>Physical Activity - Behavior</td>\n",
       "      <td>Percent of adults who achieve at least 150 min...</td>\n",
       "      <td>NaN</td>\n",
       "      <td>Value</td>\n",
       "      <td>32.9</td>\n",
       "      <td>...</td>\n",
       "      <td>$75,000 or greater</td>\n",
       "      <td>PA</td>\n",
       "      <td>PA1</td>\n",
       "      <td>Q044</td>\n",
       "      <td>VALUE</td>\n",
       "      <td>56</td>\n",
       "      <td>Income</td>\n",
       "      <td>$75,000 or greater</td>\n",
       "      <td>INC</td>\n",
       "      <td>INC75PLUS</td>\n",
       "    </tr>\n",
       "    <tr>\n",
       "      <th>104261</th>\n",
       "      <td>2023</td>\n",
       "      <td>WY</td>\n",
       "      <td>Wyoming</td>\n",
       "      <td>BRFSS</td>\n",
       "      <td>Physical Activity</td>\n",
       "      <td>Physical Activity - Behavior</td>\n",
       "      <td>Percent of adults who achieve at least 150 min...</td>\n",
       "      <td>NaN</td>\n",
       "      <td>Value</td>\n",
       "      <td>58.5</td>\n",
       "      <td>...</td>\n",
       "      <td>$25,000 - $34,999</td>\n",
       "      <td>PA</td>\n",
       "      <td>PA1</td>\n",
       "      <td>Q043</td>\n",
       "      <td>VALUE</td>\n",
       "      <td>56</td>\n",
       "      <td>Income</td>\n",
       "      <td>$25,000 - $34,999</td>\n",
       "      <td>INC</td>\n",
       "      <td>INC2535</td>\n",
       "    </tr>\n",
       "    <tr>\n",
       "      <th>104269</th>\n",
       "      <td>2023</td>\n",
       "      <td>WY</td>\n",
       "      <td>Wyoming</td>\n",
       "      <td>BRFSS</td>\n",
       "      <td>Physical Activity</td>\n",
       "      <td>Physical Activity - Behavior</td>\n",
       "      <td>Percent of adults who engage in no leisure-tim...</td>\n",
       "      <td>NaN</td>\n",
       "      <td>Value</td>\n",
       "      <td>22.5</td>\n",
       "      <td>...</td>\n",
       "      <td>Data not reported</td>\n",
       "      <td>PA</td>\n",
       "      <td>PA1</td>\n",
       "      <td>Q047</td>\n",
       "      <td>VALUE</td>\n",
       "      <td>56</td>\n",
       "      <td>Income</td>\n",
       "      <td>Data not reported</td>\n",
       "      <td>INC</td>\n",
       "      <td>INCNR</td>\n",
       "    </tr>\n",
       "  </tbody>\n",
       "</table>\n",
       "<p>13930 rows × 26 columns</p>\n",
       "</div>"
      ],
      "text/plain": [
       "        YearStart LocationAbbr LocationDesc Datasource              Class  \\\n",
       "13           2011           AK       Alaska      BRFSS  Physical Activity   \n",
       "16           2011           AK       Alaska      BRFSS  Physical Activity   \n",
       "40           2011           AK       Alaska      BRFSS  Physical Activity   \n",
       "42           2011           AK       Alaska      BRFSS  Physical Activity   \n",
       "55           2011           AK       Alaska      BRFSS  Physical Activity   \n",
       "...           ...          ...          ...        ...                ...   \n",
       "104247       2023           WY      Wyoming      BRFSS  Physical Activity   \n",
       "104249       2023           WY      Wyoming      BRFSS  Physical Activity   \n",
       "104259       2023           WY      Wyoming      BRFSS  Physical Activity   \n",
       "104261       2023           WY      Wyoming      BRFSS  Physical Activity   \n",
       "104269       2023           WY      Wyoming      BRFSS  Physical Activity   \n",
       "\n",
       "                               Topic  \\\n",
       "13      Physical Activity - Behavior   \n",
       "16      Physical Activity - Behavior   \n",
       "40      Physical Activity - Behavior   \n",
       "42      Physical Activity - Behavior   \n",
       "55      Physical Activity - Behavior   \n",
       "...                              ...   \n",
       "104247  Physical Activity - Behavior   \n",
       "104249  Physical Activity - Behavior   \n",
       "104259  Physical Activity - Behavior   \n",
       "104261  Physical Activity - Behavior   \n",
       "104269  Physical Activity - Behavior   \n",
       "\n",
       "                                                 Question  Data_Value_Unit  \\\n",
       "13      Percent of adults who achieve at least 150 min...           2011.0   \n",
       "16      Percent of adults who engage in no leisure-tim...           2011.0   \n",
       "40      Percent of adults who achieve at least 150 min...           2011.0   \n",
       "42      Percent of adults who engage in muscle-strengt...           2011.0   \n",
       "55      Percent of adults who achieve at least 300 min...           2011.0   \n",
       "...                                                   ...              ...   \n",
       "104247  Percent of adults who achieve at least 300 min...              NaN   \n",
       "104249  Percent of adults who engage in muscle-strengt...              NaN   \n",
       "104259  Percent of adults who achieve at least 150 min...              NaN   \n",
       "104261  Percent of adults who achieve at least 150 min...              NaN   \n",
       "104269  Percent of adults who engage in no leisure-tim...              NaN   \n",
       "\n",
       "       Data_Value_Type  Data_Value  ...              Income ClassID TopicID  \\\n",
       "13               Value        17.3  ...   $15,000 - $24,999      PA     PA1   \n",
       "16               Value        19.2  ...   $50,000 - $74,999      PA     PA1   \n",
       "40               Value        59.3  ...   $50,000 - $74,999      PA     PA1   \n",
       "42               Value        38.0  ...  $75,000 or greater      PA     PA1   \n",
       "55               Value        44.8  ...  $75,000 or greater      PA     PA1   \n",
       "...                ...         ...  ...                 ...     ...     ...   \n",
       "104247           Value        52.9  ...   $50,000 - $74,999      PA     PA1   \n",
       "104249           Value        31.9  ...   Less than $15,000      PA     PA1   \n",
       "104259           Value        32.9  ...  $75,000 or greater      PA     PA1   \n",
       "104261           Value        58.5  ...   $25,000 - $34,999      PA     PA1   \n",
       "104269           Value        22.5  ...   Data not reported      PA     PA1   \n",
       "\n",
       "        QuestionID  DataValueTypeID  LocationID StratificationCategory1  \\\n",
       "13            Q044            VALUE           2                  Income   \n",
       "16            Q047            VALUE           2                  Income   \n",
       "40            Q043            VALUE           2                  Income   \n",
       "42            Q046            VALUE           2                  Income   \n",
       "55            Q045            VALUE           2                  Income   \n",
       "...            ...              ...         ...                     ...   \n",
       "104247        Q045            VALUE          56                  Income   \n",
       "104249        Q046            VALUE          56                  Income   \n",
       "104259        Q044            VALUE          56                  Income   \n",
       "104261        Q043            VALUE          56                  Income   \n",
       "104269        Q047            VALUE          56                  Income   \n",
       "\n",
       "           Stratification1 StratificationCategoryId1 StratificationID1  \n",
       "13       $15,000 - $24,999                       INC           INC1525  \n",
       "16       $50,000 - $74,999                       INC           INC5075  \n",
       "40       $50,000 - $74,999                       INC           INC5075  \n",
       "42      $75,000 or greater                       INC         INC75PLUS  \n",
       "55      $75,000 or greater                       INC         INC75PLUS  \n",
       "...                    ...                       ...               ...  \n",
       "104247   $50,000 - $74,999                       INC           INC5075  \n",
       "104249   Less than $15,000                       INC         INCLESS15  \n",
       "104259  $75,000 or greater                       INC         INC75PLUS  \n",
       "104261   $25,000 - $34,999                       INC           INC2535  \n",
       "104269   Data not reported                       INC             INCNR  \n",
       "\n",
       "[13930 rows x 26 columns]"
      ]
     },
     "execution_count": 217,
     "metadata": {},
     "output_type": "execute_result"
    }
   ],
   "source": [
    "activity_clean.drop(columns='YearEnd')"
   ]
  },
  {
   "cell_type": "code",
   "execution_count": 218,
   "metadata": {},
   "outputs": [
    {
     "name": "stdout",
     "output_type": "stream",
     "text": [
      "Columns with 1 or more missing values:\n",
      "Data_Value_Unit\n",
      "Data_Value\n",
      "Data_Value_Alt\n",
      "Data_Value_Footnote_Symbol\n",
      "Data_Value_Footnote\n",
      "Low_Confidence_Limit\n",
      "High_Confidence_Limit \n",
      "Sample_Size\n"
     ]
    }
   ],
   "source": [
    "cols_with_nulls = []\n",
    "for col in activity_clean.columns:\n",
    "    if activity_clean[col].isna().sum() > 0:\n",
    "        cols_with_nulls.append(col)\n",
    "\n",
    "print(f\"Columns with 1 or more missing values:\")\n",
    "for i in cols_with_nulls:\n",
    "    print(i)\n"
   ]
  },
  {
   "cell_type": "markdown",
   "metadata": {},
   "source": [
    "### Data_Value_Unit"
   ]
  },
  {
   "cell_type": "code",
   "execution_count": 219,
   "metadata": {},
   "outputs": [
    {
     "data": {
      "text/html": [
       "<div>\n",
       "<style scoped>\n",
       "    .dataframe tbody tr th:only-of-type {\n",
       "        vertical-align: middle;\n",
       "    }\n",
       "\n",
       "    .dataframe tbody tr th {\n",
       "        vertical-align: top;\n",
       "    }\n",
       "\n",
       "    .dataframe thead th {\n",
       "        text-align: right;\n",
       "    }\n",
       "</style>\n",
       "<table border=\"1\" class=\"dataframe\">\n",
       "  <thead>\n",
       "    <tr style=\"text-align: right;\">\n",
       "      <th></th>\n",
       "      <th>YearStart</th>\n",
       "      <th>YearEnd</th>\n",
       "      <th>LocationAbbr</th>\n",
       "      <th>LocationDesc</th>\n",
       "      <th>Datasource</th>\n",
       "      <th>Class</th>\n",
       "      <th>Topic</th>\n",
       "      <th>Question</th>\n",
       "      <th>Data_Value_Unit</th>\n",
       "      <th>Data_Value_Type</th>\n",
       "      <th>...</th>\n",
       "      <th>Income</th>\n",
       "      <th>ClassID</th>\n",
       "      <th>TopicID</th>\n",
       "      <th>QuestionID</th>\n",
       "      <th>DataValueTypeID</th>\n",
       "      <th>LocationID</th>\n",
       "      <th>StratificationCategory1</th>\n",
       "      <th>Stratification1</th>\n",
       "      <th>StratificationCategoryId1</th>\n",
       "      <th>StratificationID1</th>\n",
       "    </tr>\n",
       "  </thead>\n",
       "  <tbody>\n",
       "    <tr>\n",
       "      <th>88893</th>\n",
       "      <td>2022</td>\n",
       "      <td>2022</td>\n",
       "      <td>AK</td>\n",
       "      <td>Alaska</td>\n",
       "      <td>BRFSS</td>\n",
       "      <td>Physical Activity</td>\n",
       "      <td>Physical Activity - Behavior</td>\n",
       "      <td>Percent of adults who engage in no leisure-tim...</td>\n",
       "      <td>NaN</td>\n",
       "      <td>Value</td>\n",
       "      <td>...</td>\n",
       "      <td>Less than $15,000</td>\n",
       "      <td>PA</td>\n",
       "      <td>PA1</td>\n",
       "      <td>Q047</td>\n",
       "      <td>VALUE</td>\n",
       "      <td>2</td>\n",
       "      <td>Income</td>\n",
       "      <td>Less than $15,000</td>\n",
       "      <td>INC</td>\n",
       "      <td>INCLESS15</td>\n",
       "    </tr>\n",
       "    <tr>\n",
       "      <th>88902</th>\n",
       "      <td>2022</td>\n",
       "      <td>2022</td>\n",
       "      <td>AK</td>\n",
       "      <td>Alaska</td>\n",
       "      <td>BRFSS</td>\n",
       "      <td>Physical Activity</td>\n",
       "      <td>Physical Activity - Behavior</td>\n",
       "      <td>Percent of adults who engage in no leisure-tim...</td>\n",
       "      <td>NaN</td>\n",
       "      <td>Value</td>\n",
       "      <td>...</td>\n",
       "      <td>Data not reported</td>\n",
       "      <td>PA</td>\n",
       "      <td>PA1</td>\n",
       "      <td>Q047</td>\n",
       "      <td>VALUE</td>\n",
       "      <td>2</td>\n",
       "      <td>Income</td>\n",
       "      <td>Data not reported</td>\n",
       "      <td>INC</td>\n",
       "      <td>INCNR</td>\n",
       "    </tr>\n",
       "    <tr>\n",
       "      <th>88907</th>\n",
       "      <td>2022</td>\n",
       "      <td>2022</td>\n",
       "      <td>AK</td>\n",
       "      <td>Alaska</td>\n",
       "      <td>BRFSS</td>\n",
       "      <td>Physical Activity</td>\n",
       "      <td>Physical Activity - Behavior</td>\n",
       "      <td>Percent of adults who engage in no leisure-tim...</td>\n",
       "      <td>NaN</td>\n",
       "      <td>Value</td>\n",
       "      <td>...</td>\n",
       "      <td>$15,000 - $24,999</td>\n",
       "      <td>PA</td>\n",
       "      <td>PA1</td>\n",
       "      <td>Q047</td>\n",
       "      <td>VALUE</td>\n",
       "      <td>2</td>\n",
       "      <td>Income</td>\n",
       "      <td>$15,000 - $24,999</td>\n",
       "      <td>INC</td>\n",
       "      <td>INC1525</td>\n",
       "    </tr>\n",
       "    <tr>\n",
       "      <th>88941</th>\n",
       "      <td>2022</td>\n",
       "      <td>2022</td>\n",
       "      <td>AK</td>\n",
       "      <td>Alaska</td>\n",
       "      <td>BRFSS</td>\n",
       "      <td>Physical Activity</td>\n",
       "      <td>Physical Activity - Behavior</td>\n",
       "      <td>Percent of adults who engage in no leisure-tim...</td>\n",
       "      <td>NaN</td>\n",
       "      <td>Value</td>\n",
       "      <td>...</td>\n",
       "      <td>$35,000 - $49,999</td>\n",
       "      <td>PA</td>\n",
       "      <td>PA1</td>\n",
       "      <td>Q047</td>\n",
       "      <td>VALUE</td>\n",
       "      <td>2</td>\n",
       "      <td>Income</td>\n",
       "      <td>$35,000 - $49,999</td>\n",
       "      <td>INC</td>\n",
       "      <td>INC3550</td>\n",
       "    </tr>\n",
       "    <tr>\n",
       "      <th>88944</th>\n",
       "      <td>2022</td>\n",
       "      <td>2022</td>\n",
       "      <td>AK</td>\n",
       "      <td>Alaska</td>\n",
       "      <td>BRFSS</td>\n",
       "      <td>Physical Activity</td>\n",
       "      <td>Physical Activity - Behavior</td>\n",
       "      <td>Percent of adults who engage in no leisure-tim...</td>\n",
       "      <td>NaN</td>\n",
       "      <td>Value</td>\n",
       "      <td>...</td>\n",
       "      <td>$75,000 or greater</td>\n",
       "      <td>PA</td>\n",
       "      <td>PA1</td>\n",
       "      <td>Q047</td>\n",
       "      <td>VALUE</td>\n",
       "      <td>2</td>\n",
       "      <td>Income</td>\n",
       "      <td>$75,000 or greater</td>\n",
       "      <td>INC</td>\n",
       "      <td>INC75PLUS</td>\n",
       "    </tr>\n",
       "  </tbody>\n",
       "</table>\n",
       "<p>5 rows × 27 columns</p>\n",
       "</div>"
      ],
      "text/plain": [
       "       YearStart  YearEnd LocationAbbr LocationDesc Datasource  \\\n",
       "88893       2022     2022           AK       Alaska      BRFSS   \n",
       "88902       2022     2022           AK       Alaska      BRFSS   \n",
       "88907       2022     2022           AK       Alaska      BRFSS   \n",
       "88941       2022     2022           AK       Alaska      BRFSS   \n",
       "88944       2022     2022           AK       Alaska      BRFSS   \n",
       "\n",
       "                   Class                         Topic  \\\n",
       "88893  Physical Activity  Physical Activity - Behavior   \n",
       "88902  Physical Activity  Physical Activity - Behavior   \n",
       "88907  Physical Activity  Physical Activity - Behavior   \n",
       "88941  Physical Activity  Physical Activity - Behavior   \n",
       "88944  Physical Activity  Physical Activity - Behavior   \n",
       "\n",
       "                                                Question  Data_Value_Unit  \\\n",
       "88893  Percent of adults who engage in no leisure-tim...              NaN   \n",
       "88902  Percent of adults who engage in no leisure-tim...              NaN   \n",
       "88907  Percent of adults who engage in no leisure-tim...              NaN   \n",
       "88941  Percent of adults who engage in no leisure-tim...              NaN   \n",
       "88944  Percent of adults who engage in no leisure-tim...              NaN   \n",
       "\n",
       "      Data_Value_Type  ...              Income  ClassID TopicID QuestionID  \\\n",
       "88893           Value  ...   Less than $15,000       PA     PA1       Q047   \n",
       "88902           Value  ...   Data not reported       PA     PA1       Q047   \n",
       "88907           Value  ...   $15,000 - $24,999       PA     PA1       Q047   \n",
       "88941           Value  ...   $35,000 - $49,999       PA     PA1       Q047   \n",
       "88944           Value  ...  $75,000 or greater       PA     PA1       Q047   \n",
       "\n",
       "       DataValueTypeID  LocationID  StratificationCategory1  \\\n",
       "88893            VALUE           2                   Income   \n",
       "88902            VALUE           2                   Income   \n",
       "88907            VALUE           2                   Income   \n",
       "88941            VALUE           2                   Income   \n",
       "88944            VALUE           2                   Income   \n",
       "\n",
       "          Stratification1 StratificationCategoryId1 StratificationID1  \n",
       "88893   Less than $15,000                       INC         INCLESS15  \n",
       "88902   Data not reported                       INC             INCNR  \n",
       "88907   $15,000 - $24,999                       INC           INC1525  \n",
       "88941   $35,000 - $49,999                       INC           INC3550  \n",
       "88944  $75,000 or greater                       INC         INC75PLUS  \n",
       "\n",
       "[5 rows x 27 columns]"
      ]
     },
     "execution_count": 219,
     "metadata": {},
     "output_type": "execute_result"
    }
   ],
   "source": [
    "activity_clean.loc[activity_clean['Data_Value_Unit'].isna()].head()"
   ]
  },
  {
   "cell_type": "code",
   "execution_count": 220,
   "metadata": {},
   "outputs": [
    {
     "data": {
      "text/plain": [
       "array(['Percent of adults who engage in no leisure-time physical activity',\n",
       "       'Percent of adults who achieve at least 150 minutes a week of moderate-intensity aerobic physical activity or 75 minutes a week of vigorous-intensity aerobic activity (or an equivalent combination)',\n",
       "       'Percent of adults who engage in muscle-strengthening activities on 2 or more days a week',\n",
       "       'Percent of adults who achieve at least 300 minutes a week of moderate-intensity aerobic physical activity or 150 minutes a week of vigorous-intensity aerobic activity (or an equivalent combination)',\n",
       "       'Percent of adults who achieve at least 150 minutes a week of moderate-intensity aerobic physical activity or 75 minutes a week of vigorous-intensity aerobic physical activity and engage in muscle-strengthening activities on 2 or more days a week'],\n",
       "      dtype=object)"
      ]
     },
     "execution_count": 220,
     "metadata": {},
     "output_type": "execute_result"
    }
   ],
   "source": [
    "activity_clean.loc[activity_clean['Data_Value_Unit'].isna()]['Question'].unique()"
   ]
  },
  {
   "cell_type": "code",
   "execution_count": 221,
   "metadata": {},
   "outputs": [
    {
     "data": {
      "text/plain": [
       "array([2011., 2012., 2013., 2014., 2015., 2016., 2017., 2018., 2019.,\n",
       "       2020., 2021.,   nan])"
      ]
     },
     "execution_count": 221,
     "metadata": {},
     "output_type": "execute_result"
    }
   ],
   "source": [
    "activity_clean['Data_Value_Unit'].unique()"
   ]
  },
  {
   "cell_type": "markdown",
   "metadata": {},
   "source": [
    "The description of the dataset describes `Data_Value_Unit` as \"Description of unit e.g. %, etc\" but this does not seem accurate, as the non-null values are years. "
   ]
  },
  {
   "cell_type": "code",
   "execution_count": 222,
   "metadata": {},
   "outputs": [],
   "source": [
    "activity_clean = activity_clean.drop(columns=['Data_Value_Unit'])"
   ]
  },
  {
   "cell_type": "markdown",
   "metadata": {},
   "source": [
    "### Data_Value"
   ]
  },
  {
   "cell_type": "code",
   "execution_count": 223,
   "metadata": {},
   "outputs": [],
   "source": [
    "activity_clean = activity_clean.dropna(subset=['Data_Value'])"
   ]
  },
  {
   "cell_type": "markdown",
   "metadata": {},
   "source": [
    "### Data_Value_Alt\n",
    "Description: \"Numeric representation of data value\""
   ]
  },
  {
   "cell_type": "code",
   "execution_count": 224,
   "metadata": {},
   "outputs": [
    {
     "data": {
      "text/plain": [
       "True    13775\n",
       "Name: count, dtype: int64"
      ]
     },
     "execution_count": 224,
     "metadata": {},
     "output_type": "execute_result"
    }
   ],
   "source": [
    "# How many differences are there between Data_Value and Data_Value_Alt?\n",
    "(activity_clean['Data_Value'] == activity_clean['Data_Value_Alt']).value_counts()"
   ]
  },
  {
   "cell_type": "code",
   "execution_count": 225,
   "metadata": {},
   "outputs": [
    {
     "data": {
      "text/html": [
       "<div>\n",
       "<style scoped>\n",
       "    .dataframe tbody tr th:only-of-type {\n",
       "        vertical-align: middle;\n",
       "    }\n",
       "\n",
       "    .dataframe tbody tr th {\n",
       "        vertical-align: top;\n",
       "    }\n",
       "\n",
       "    .dataframe thead th {\n",
       "        text-align: right;\n",
       "    }\n",
       "</style>\n",
       "<table border=\"1\" class=\"dataframe\">\n",
       "  <thead>\n",
       "    <tr style=\"text-align: right;\">\n",
       "      <th></th>\n",
       "      <th>Data_Value</th>\n",
       "      <th>Data_Value_Alt</th>\n",
       "    </tr>\n",
       "  </thead>\n",
       "  <tbody>\n",
       "  </tbody>\n",
       "</table>\n",
       "</div>"
      ],
      "text/plain": [
       "Empty DataFrame\n",
       "Columns: [Data_Value, Data_Value_Alt]\n",
       "Index: []"
      ]
     },
     "execution_count": 225,
     "metadata": {},
     "output_type": "execute_result"
    }
   ],
   "source": [
    "# What do these differences look like\n",
    "activity_clean.loc[(activity_clean['Data_Value_Alt'] != activity_clean['Data_Value']), ['Data_Value', 'Data_Value_Alt']]"
   ]
  },
  {
   "cell_type": "code",
   "execution_count": 226,
   "metadata": {},
   "outputs": [
    {
     "data": {
      "text/html": [
       "<div>\n",
       "<style scoped>\n",
       "    .dataframe tbody tr th:only-of-type {\n",
       "        vertical-align: middle;\n",
       "    }\n",
       "\n",
       "    .dataframe tbody tr th {\n",
       "        vertical-align: top;\n",
       "    }\n",
       "\n",
       "    .dataframe thead th {\n",
       "        text-align: right;\n",
       "    }\n",
       "</style>\n",
       "<table border=\"1\" class=\"dataframe\">\n",
       "  <thead>\n",
       "    <tr style=\"text-align: right;\">\n",
       "      <th></th>\n",
       "      <th>Data_Value</th>\n",
       "      <th>Data_Value_Alt</th>\n",
       "    </tr>\n",
       "  </thead>\n",
       "  <tbody>\n",
       "  </tbody>\n",
       "</table>\n",
       "</div>"
      ],
      "text/plain": [
       "Empty DataFrame\n",
       "Columns: [Data_Value, Data_Value_Alt]\n",
       "Index: []"
      ]
     },
     "execution_count": 226,
     "metadata": {},
     "output_type": "execute_result"
    }
   ],
   "source": [
    "# Are all of them pairs of NaNs?\n",
    "activity_clean.loc[((activity_clean['Data_Value_Alt'] != activity_clean['Data_Value']) & \n",
    "                     (activity_clean['Data_Value_Alt'].notna() | activity_clean['Data_Value'].notna())), \n",
    "                    ['Data_Value', 'Data_Value_Alt']]"
   ]
  },
  {
   "cell_type": "markdown",
   "metadata": {},
   "source": [
    "All of the columns where Data_Value and Data_Value_Alt are not equal are pairs of NaNs (Python doesn't see 2 NaNs as equal). It is reasonable to drop Data_Value_Alt here because it does not add any additional meaning to the data. "
   ]
  },
  {
   "cell_type": "code",
   "execution_count": 227,
   "metadata": {},
   "outputs": [],
   "source": [
    "activity_clean = activity_clean.drop(columns=['Data_Value_Alt'])"
   ]
  },
  {
   "cell_type": "markdown",
   "metadata": {},
   "source": [
    "### Data_Value_Footnote and Data_Value_Footnote_Symbol"
   ]
  },
  {
   "cell_type": "code",
   "execution_count": 228,
   "metadata": {},
   "outputs": [
    {
     "name": "stdout",
     "output_type": "stream",
     "text": [
      "Data_Value_Footnote:\n",
      "[nan]\n",
      "\n",
      "Data_Value_Footnote_Symbol:\n",
      "[nan]\n"
     ]
    }
   ],
   "source": [
    "# What values are present in these columns?\n",
    "print('Data_Value_Footnote:')\n",
    "print(activity_clean['Data_Value_Footnote'].unique())\n",
    "print('\\nData_Value_Footnote_Symbol:')\n",
    "print(activity_clean['Data_Value_Footnote_Symbol'].unique())"
   ]
  },
  {
   "cell_type": "code",
   "execution_count": 229,
   "metadata": {},
   "outputs": [
    {
     "data": {
      "text/plain": [
       "False    13775\n",
       "Name: count, dtype: int64"
      ]
     },
     "execution_count": 229,
     "metadata": {},
     "output_type": "execute_result"
    }
   ],
   "source": [
    "# Are there any differences between these 2 columns?\n",
    "(activity_clean['Data_Value_Footnote'] == activity_clean['Data_Value_Footnote_Symbol']).value_counts()"
   ]
  },
  {
   "cell_type": "markdown",
   "metadata": {},
   "source": [
    "There are no differences between these 2 columns and the column name is not very descriptive of what values are present in the columns. It would make more sense to have a column called \"Sample_Size_Insufficient\" with binary values. "
   ]
  },
  {
   "cell_type": "code",
   "execution_count": 230,
   "metadata": {},
   "outputs": [],
   "source": [
    "activity_clean['Sample_Size_Insufficient'] = activity_clean[\"Data_Value_Footnote_Symbol\"].map({np.nan:0, '~':1})"
   ]
  },
  {
   "cell_type": "code",
   "execution_count": 231,
   "metadata": {},
   "outputs": [],
   "source": [
    "activity_clean = activity_clean.drop(columns=['Data_Value_Footnote', 'Data_Value_Footnote_Symbol'])"
   ]
  },
  {
   "cell_type": "markdown",
   "metadata": {},
   "source": [
    "### Low_Confidence_Limit and High_Confidence_Limit"
   ]
  },
  {
   "cell_type": "code",
   "execution_count": 232,
   "metadata": {},
   "outputs": [],
   "source": [
    "# Rename to remove trailing whitespace\n",
    "activity_clean['High_Confidence_Limit'] = activity_clean['High_Confidence_Limit ']"
   ]
  },
  {
   "cell_type": "code",
   "execution_count": 233,
   "metadata": {},
   "outputs": [],
   "source": [
    "# Drop column with extra whitespace\n",
    "activity_clean = activity_clean.drop(columns=['High_Confidence_Limit '])"
   ]
  },
  {
   "cell_type": "code",
   "execution_count": 234,
   "metadata": {},
   "outputs": [
    {
     "data": {
      "text/html": [
       "<div>\n",
       "<style scoped>\n",
       "    .dataframe tbody tr th:only-of-type {\n",
       "        vertical-align: middle;\n",
       "    }\n",
       "\n",
       "    .dataframe tbody tr th {\n",
       "        vertical-align: top;\n",
       "    }\n",
       "\n",
       "    .dataframe thead th {\n",
       "        text-align: right;\n",
       "    }\n",
       "</style>\n",
       "<table border=\"1\" class=\"dataframe\">\n",
       "  <thead>\n",
       "    <tr style=\"text-align: right;\">\n",
       "      <th></th>\n",
       "      <th>Low_Confidence_Limit</th>\n",
       "      <th>High_Confidence_Limit</th>\n",
       "    </tr>\n",
       "  </thead>\n",
       "  <tbody>\n",
       "    <tr>\n",
       "      <th>13</th>\n",
       "      <td>12.5</td>\n",
       "      <td>23.4</td>\n",
       "    </tr>\n",
       "    <tr>\n",
       "      <th>16</th>\n",
       "      <td>15.1</td>\n",
       "      <td>24.1</td>\n",
       "    </tr>\n",
       "    <tr>\n",
       "      <th>40</th>\n",
       "      <td>53.2</td>\n",
       "      <td>65.0</td>\n",
       "    </tr>\n",
       "    <tr>\n",
       "      <th>42</th>\n",
       "      <td>34.1</td>\n",
       "      <td>42.1</td>\n",
       "    </tr>\n",
       "    <tr>\n",
       "      <th>55</th>\n",
       "      <td>40.7</td>\n",
       "      <td>48.9</td>\n",
       "    </tr>\n",
       "    <tr>\n",
       "      <th>...</th>\n",
       "      <td>...</td>\n",
       "      <td>...</td>\n",
       "    </tr>\n",
       "    <tr>\n",
       "      <th>104247</th>\n",
       "      <td>47.6</td>\n",
       "      <td>58.1</td>\n",
       "    </tr>\n",
       "    <tr>\n",
       "      <th>104249</th>\n",
       "      <td>23.6</td>\n",
       "      <td>41.5</td>\n",
       "    </tr>\n",
       "    <tr>\n",
       "      <th>104259</th>\n",
       "      <td>27.7</td>\n",
       "      <td>38.6</td>\n",
       "    </tr>\n",
       "    <tr>\n",
       "      <th>104261</th>\n",
       "      <td>52.3</td>\n",
       "      <td>64.5</td>\n",
       "    </tr>\n",
       "    <tr>\n",
       "      <th>104269</th>\n",
       "      <td>20.0</td>\n",
       "      <td>25.2</td>\n",
       "    </tr>\n",
       "  </tbody>\n",
       "</table>\n",
       "<p>13775 rows × 2 columns</p>\n",
       "</div>"
      ],
      "text/plain": [
       "        Low_Confidence_Limit  High_Confidence_Limit\n",
       "13                      12.5                   23.4\n",
       "16                      15.1                   24.1\n",
       "40                      53.2                   65.0\n",
       "42                      34.1                   42.1\n",
       "55                      40.7                   48.9\n",
       "...                      ...                    ...\n",
       "104247                  47.6                   58.1\n",
       "104249                  23.6                   41.5\n",
       "104259                  27.7                   38.6\n",
       "104261                  52.3                   64.5\n",
       "104269                  20.0                   25.2\n",
       "\n",
       "[13775 rows x 2 columns]"
      ]
     },
     "execution_count": 234,
     "metadata": {},
     "output_type": "execute_result"
    }
   ],
   "source": [
    "# What do these columns look like?\n",
    "activity_clean.loc[:,['Low_Confidence_Limit','High_Confidence_Limit']]"
   ]
  },
  {
   "cell_type": "code",
   "execution_count": 235,
   "metadata": {},
   "outputs": [
    {
     "data": {
      "text/plain": [
       "True    13775\n",
       "Name: count, dtype: int64"
      ]
     },
     "execution_count": 235,
     "metadata": {},
     "output_type": "execute_result"
    }
   ],
   "source": [
    "# If there's a null in one column, are there nulls in both?\n",
    "(activity_clean['Low_Confidence_Limit'].isna() == activity_clean['High_Confidence_Limit'].isna()).value_counts()"
   ]
  },
  {
   "cell_type": "markdown",
   "metadata": {},
   "source": [
    "## Analysis\n"
   ]
  },
  {
   "cell_type": "code",
   "execution_count": 236,
   "metadata": {},
   "outputs": [
    {
     "data": {
      "text/plain": [
       "array(['Percent of adults who achieve at least 150 minutes a week of moderate-intensity aerobic physical activity or 75 minutes a week of vigorous-intensity aerobic physical activity and engage in muscle-strengthening activities on 2 or more days a week',\n",
       "       'Percent of adults who engage in no leisure-time physical activity',\n",
       "       'Percent of adults who achieve at least 150 minutes a week of moderate-intensity aerobic physical activity or 75 minutes a week of vigorous-intensity aerobic activity (or an equivalent combination)',\n",
       "       'Percent of adults who engage in muscle-strengthening activities on 2 or more days a week',\n",
       "       'Percent of adults who achieve at least 300 minutes a week of moderate-intensity aerobic physical activity or 150 minutes a week of vigorous-intensity aerobic activity (or an equivalent combination)'],\n",
       "      dtype=object)"
      ]
     },
     "execution_count": 236,
     "metadata": {},
     "output_type": "execute_result"
    }
   ],
   "source": [
    "questions = activity_clean['Question'].unique()\n",
    "questions"
   ]
  },
  {
   "cell_type": "markdown",
   "metadata": {},
   "source": [
    "Research question: Do higher-income populations consistently have more time for physical activity than lower income populations?\n",
    "\n",
    "Variables of interest:\n",
    "YearStart, LocationAbbr - denote which study each data point came from\n",
    "\n",
    "Question - what is being measured\n",
    "\n",
    "Data_Value - percentage who engage in/achieve the question metric (dependent variable)\n",
    "\n",
    "Income - shows income level (independent variable)"
   ]
  },
  {
   "cell_type": "markdown",
   "metadata": {},
   "source": [
    "Encoding income as a numeric variable for linear regression"
   ]
  },
  {
   "cell_type": "code",
   "execution_count": 237,
   "metadata": {},
   "outputs": [
    {
     "data": {
      "text/plain": [
       "array(['$15,000 - $24,999', '$50,000 - $74,999', '$75,000 or greater',\n",
       "       '$25,000 - $34,999', 'Less than $15,000', '$35,000 - $49,999',\n",
       "       'Data not reported'], dtype=object)"
      ]
     },
     "execution_count": 237,
     "metadata": {},
     "output_type": "execute_result"
    }
   ],
   "source": [
    "activity_clean['Income'].unique()"
   ]
  },
  {
   "cell_type": "code",
   "execution_count": null,
   "metadata": {},
   "outputs": [
    {
     "name": "stderr",
     "output_type": "stream",
     "text": [
      "C:\\Users\\miguel\\AppData\\Local\\Temp\\ipykernel_31548\\3164955559.py:9: FutureWarning: Downcasting behavior in `replace` is deprecated and will be removed in a future version. To retain the old behavior, explicitly call `result.infer_objects(copy=False)`. To opt-in to the future behavior, set `pd.set_option('future.no_silent_downcasting', True)`\n",
      "  activity_clean['numeric_income'] = activity_clean['Income'].replace(income_dict)\n"
     ]
    }
   ],
   "source": [
    "# maps income ranges to starting numeric value in range\n",
    "income_dict = {'$15,000 - $24,999':15000, \"$35,000 - $49,999\":35000, '$50,000 - $74,999':50000, '$75,000 or greater':75000,\n",
    "       '$25,000 - $34,999':25000, 'Less than $15,000':0}\n",
    "# removes data not reported\n",
    "activity_clean = activity_clean.loc[activity_clean['Income'] != 'Data not reported']\n",
    "\n",
    "\n",
    "# creates numeric column of income based on mappings\n",
    "activity_clean['numeric_income'] = activity_clean['Income'].replace(income_dict)\n"
   ]
  },
  {
   "cell_type": "code",
   "execution_count": 239,
   "metadata": {},
   "outputs": [
    {
     "name": "stdout",
     "output_type": "stream",
     "text": [
      "<class 'pandas.core.frame.DataFrame'>\n",
      "Index: 11807 entries, 13 to 104261\n",
      "Data columns (total 25 columns):\n",
      " #   Column                     Non-Null Count  Dtype  \n",
      "---  ------                     --------------  -----  \n",
      " 0   YearStart                  11807 non-null  int64  \n",
      " 1   YearEnd                    11807 non-null  int64  \n",
      " 2   LocationAbbr               11807 non-null  object \n",
      " 3   LocationDesc               11807 non-null  object \n",
      " 4   Datasource                 11807 non-null  object \n",
      " 5   Class                      11807 non-null  object \n",
      " 6   Topic                      11807 non-null  object \n",
      " 7   Question                   11807 non-null  object \n",
      " 8   Data_Value_Type            11807 non-null  object \n",
      " 9   Data_Value                 11807 non-null  float64\n",
      " 10  Low_Confidence_Limit       11807 non-null  float64\n",
      " 11  Sample_Size                11807 non-null  float64\n",
      " 12  Income                     11807 non-null  object \n",
      " 13  ClassID                    11807 non-null  object \n",
      " 14  TopicID                    11807 non-null  object \n",
      " 15  QuestionID                 11807 non-null  object \n",
      " 16  DataValueTypeID            11807 non-null  object \n",
      " 17  LocationID                 11807 non-null  int64  \n",
      " 18  StratificationCategory1    11807 non-null  object \n",
      " 19  Stratification1            11807 non-null  object \n",
      " 20  StratificationCategoryId1  11807 non-null  object \n",
      " 21  StratificationID1          11807 non-null  object \n",
      " 22  Sample_Size_Insufficient   11807 non-null  int64  \n",
      " 23  High_Confidence_Limit      11807 non-null  float64\n",
      " 24  numeric_income             11807 non-null  int64  \n",
      "dtypes: float64(4), int64(5), object(16)\n",
      "memory usage: 2.3+ MB\n"
     ]
    }
   ],
   "source": [
    "activity_clean.info()"
   ]
  },
  {
   "cell_type": "code",
   "execution_count": 240,
   "metadata": {},
   "outputs": [
    {
     "data": {
      "text/plain": [
       "Index(['YearStart', 'YearEnd', 'LocationAbbr', 'LocationDesc', 'Datasource',\n",
       "       'Class', 'Topic', 'Question', 'Data_Value_Type', 'Data_Value',\n",
       "       'Low_Confidence_Limit', 'Sample_Size', 'Income', 'ClassID', 'TopicID',\n",
       "       'QuestionID', 'DataValueTypeID', 'LocationID',\n",
       "       'StratificationCategory1', 'Stratification1',\n",
       "       'StratificationCategoryId1', 'StratificationID1',\n",
       "       'Sample_Size_Insufficient', 'High_Confidence_Limit', 'numeric_income'],\n",
       "      dtype='object')"
      ]
     },
     "execution_count": 240,
     "metadata": {},
     "output_type": "execute_result"
    }
   ],
   "source": [
    "activity_clean.columns"
   ]
  },
  {
   "cell_type": "code",
   "execution_count": 241,
   "metadata": {},
   "outputs": [],
   "source": [
    "no_leisure_time = activity_clean[activity_clean['Question'] == 'Percent of adults who engage in no leisure-time physical activity'] "
   ]
  },
  {
   "cell_type": "code",
   "execution_count": 248,
   "metadata": {},
   "outputs": [
    {
     "name": "stderr",
     "output_type": "stream",
     "text": [
      "<>:22: SyntaxWarning: invalid escape sequence '\\$'\n",
      "<>:22: SyntaxWarning: invalid escape sequence '\\$'\n",
      "C:\\Users\\miguel\\AppData\\Local\\Temp\\ipykernel_31548\\4111186112.py:22: SyntaxWarning: invalid escape sequence '\\$'\n",
      "  plt.xlabel(\"Minimum Income in Range (i.e. 15,000 for \\$15,000 - \\$24,999)\", fontsize=12)\n",
      "c:\\Users\\miguel\\anaconda3\\envs\\info511\\Lib\\site-packages\\sklearn\\base.py:493: UserWarning: X does not have valid feature names, but LinearRegression was fitted with feature names\n",
      "  warnings.warn(\n"
     ]
    },
    {
     "data": {
      "image/png": "[encoded data removed]",
      "text/plain": [
       "<Figure size 640x480 with 1 Axes>"
      ]
     },
     "metadata": {},
     "output_type": "display_data"
    }
   ],
   "source": [
    "import seaborn as sns\n",
    "import matplotlib.pyplot as plt\n",
    "from sklearn.linear_model import LinearRegression\n",
    "\n",
    "sns.set_style(style='whitegrid')\n",
    "sns.scatterplot(data=no_leisure_time, x='numeric_income', y='Data_Value', alpha=0.1)\n",
    "\n",
    "model = LinearRegression()\n",
    "x = no_leisure_time[['numeric_income']]\n",
    "y = no_leisure_time['Data_Value']\n",
    "model.fit(x, y)\n",
    "\n",
    "slope = model.coef_[0]\n",
    "intercept = model.intercept_\n",
    "r_squared = model.score(x, y)\n",
    "\n",
    "x_range = np.linspace(x.min(), x.max(), 100)  # Range of x values\n",
    "y_pred = model.predict(x_range)  # Predicted y values\n",
    "plt.plot(x_range, y_pred, color='red', label=f\"y = {slope:.2f}x + {intercept:.2f}, $R^2$ = {r_squared:.2f}\")\n",
    "\n",
    "plt.title(\"Percent of sample population who engage in no leisure time activity\", fontsize=14)\n",
    "plt.xlabel(\"Minimum Income in Range (i.e. 15,000 for \\$15,000 - \\$24,999)\", fontsize=12)\n",
    "plt.ylabel(\"Percent of Sample Population\", fontsize=12)\n",
    "plt.legend()\n",
    "plt.show()"
   ]
  },
  {
   "cell_type": "code",
   "execution_count": 243,
   "metadata": {},
   "outputs": [
    {
     "ename": "TypeError",
     "evalue": "regplot() got an unexpected keyword argument 'scatterkws'",
     "output_type": "error",
     "traceback": [
      "\u001b[1;31m---------------------------------------------------------------------------\u001b[0m",
      "\u001b[1;31mTypeError\u001b[0m                                 Traceback (most recent call last)",
      "Cell \u001b[1;32mIn[243], line 5\u001b[0m\n\u001b[0;32m      2\u001b[0m g \u001b[38;5;241m=\u001b[39m sns\u001b[38;5;241m.\u001b[39mFacetGrid(activity_clean, col\u001b[38;5;241m=\u001b[39m\u001b[38;5;124m'\u001b[39m\u001b[38;5;124mQuestion\u001b[39m\u001b[38;5;124m'\u001b[39m, col_wrap\u001b[38;5;241m=\u001b[39m\u001b[38;5;241m1\u001b[39m, height\u001b[38;5;241m=\u001b[39m\u001b[38;5;241m4\u001b[39m)  \n\u001b[0;32m      4\u001b[0m \u001b[38;5;66;03m# map the scatterplot to each facet\u001b[39;00m\n\u001b[1;32m----> 5\u001b[0m \u001b[43mg\u001b[49m\u001b[38;5;241;43m.\u001b[39;49m\u001b[43mmap\u001b[49m\u001b[43m(\u001b[49m\u001b[43msns\u001b[49m\u001b[38;5;241;43m.\u001b[39;49m\u001b[43mregplot\u001b[49m\u001b[43m,\u001b[49m\u001b[43m \u001b[49m\u001b[38;5;124;43m'\u001b[39;49m\u001b[38;5;124;43mnumeric_income\u001b[39;49m\u001b[38;5;124;43m'\u001b[39;49m\u001b[43m,\u001b[49m\u001b[43m \u001b[49m\u001b[38;5;124;43m'\u001b[39;49m\u001b[38;5;124;43mData_Value\u001b[39;49m\u001b[38;5;124;43m'\u001b[39;49m\u001b[43m,\u001b[49m\u001b[43m \u001b[49m\u001b[43mscatterkws\u001b[49m\u001b[38;5;241;43m=\u001b[39;49m\u001b[38;5;28;43mdict\u001b[39;49m\u001b[43m(\u001b[49m\u001b[43malpha\u001b[49m\u001b[38;5;241;43m=\u001b[39;49m\u001b[38;5;241;43m0.1\u001b[39;49m\u001b[43m)\u001b[49m\u001b[43m)\u001b[49m\n\u001b[0;32m      7\u001b[0m \u001b[38;5;66;03m# adjust the layout and show t\u001b[39;00m\n\u001b[0;32m      8\u001b[0m g\u001b[38;5;241m.\u001b[39mfig\u001b[38;5;241m.\u001b[39msuptitle(\u001b[38;5;124m'\u001b[39m\u001b[38;5;124mScatter plots of Numeric Income vs Data Value by Question\u001b[39m\u001b[38;5;124m'\u001b[39m, fontsize\u001b[38;5;241m=\u001b[39m\u001b[38;5;241m16\u001b[39m)\n",
      "File \u001b[1;32mc:\\Users\\miguel\\anaconda3\\envs\\info511\\Lib\\site-packages\\seaborn\\axisgrid.py:758\u001b[0m, in \u001b[0;36mFacetGrid.map\u001b[1;34m(self, func, *args, **kwargs)\u001b[0m\n\u001b[0;32m    755\u001b[0m         plot_args \u001b[38;5;241m=\u001b[39m [v\u001b[38;5;241m.\u001b[39mvalues \u001b[38;5;28;01mfor\u001b[39;00m v \u001b[38;5;129;01min\u001b[39;00m plot_args]\n\u001b[0;32m    757\u001b[0m     \u001b[38;5;66;03m# Draw the plot\u001b[39;00m\n\u001b[1;32m--> 758\u001b[0m     \u001b[38;5;28;43mself\u001b[39;49m\u001b[38;5;241;43m.\u001b[39;49m\u001b[43m_facet_plot\u001b[49m\u001b[43m(\u001b[49m\u001b[43mfunc\u001b[49m\u001b[43m,\u001b[49m\u001b[43m \u001b[49m\u001b[43max\u001b[49m\u001b[43m,\u001b[49m\u001b[43m \u001b[49m\u001b[43mplot_args\u001b[49m\u001b[43m,\u001b[49m\u001b[43m \u001b[49m\u001b[43mkwargs\u001b[49m\u001b[43m)\u001b[49m\n\u001b[0;32m    760\u001b[0m \u001b[38;5;66;03m# Finalize the annotations and layout\u001b[39;00m\n\u001b[0;32m    761\u001b[0m \u001b[38;5;28mself\u001b[39m\u001b[38;5;241m.\u001b[39m_finalize_grid(args[:\u001b[38;5;241m2\u001b[39m])\n",
      "File \u001b[1;32mc:\\Users\\miguel\\anaconda3\\envs\\info511\\Lib\\site-packages\\seaborn\\axisgrid.py:854\u001b[0m, in \u001b[0;36mFacetGrid._facet_plot\u001b[1;34m(self, func, ax, plot_args, plot_kwargs)\u001b[0m\n\u001b[0;32m    852\u001b[0m     plot_args \u001b[38;5;241m=\u001b[39m []\n\u001b[0;32m    853\u001b[0m     plot_kwargs[\u001b[38;5;124m\"\u001b[39m\u001b[38;5;124max\u001b[39m\u001b[38;5;124m\"\u001b[39m] \u001b[38;5;241m=\u001b[39m ax\n\u001b[1;32m--> 854\u001b[0m \u001b[43mfunc\u001b[49m\u001b[43m(\u001b[49m\u001b[38;5;241;43m*\u001b[39;49m\u001b[43mplot_args\u001b[49m\u001b[43m,\u001b[49m\u001b[43m \u001b[49m\u001b[38;5;241;43m*\u001b[39;49m\u001b[38;5;241;43m*\u001b[39;49m\u001b[43mplot_kwargs\u001b[49m\u001b[43m)\u001b[49m\n\u001b[0;32m    856\u001b[0m \u001b[38;5;66;03m# Sort out the supporting information\u001b[39;00m\n\u001b[0;32m    857\u001b[0m \u001b[38;5;28mself\u001b[39m\u001b[38;5;241m.\u001b[39m_update_legend_data(ax)\n",
      "\u001b[1;31mTypeError\u001b[0m: regplot() got an unexpected keyword argument 'scatterkws'"
     ]
    },
    {
     "data": {
      "image/png": "[encoded data removed]",
      "text/plain": [
       "<Figure size 400x2000 with 5 Axes>"
      ]
     },
     "metadata": {},
     "output_type": "display_data"
    }
   ],
   "source": [
    "# create a FacetGrid to generate separate plots for each unique value of 'Question'\n",
    "g = sns.FacetGrid(activity_clean, col='Question', col_wrap=1, height=4)  \n",
    "\n",
    "# map the scatterplot to each facet\n",
    "g.map(sns.regplot, 'numeric_income', 'Data_Value', scatterkws=dict(alpha=0.1))\n",
    "\n",
    "# adjust the layout and show t\n",
    "g.fig.suptitle('Scatter plots of Numeric Income vs Data Value by Question', fontsize=16)\n",
    "plt.show()"
   ]
  }
 ],
 "metadata": {
  "kernelspec": {
   "display_name": "info511",
   "language": "python",
   "name": "python3"
  },
  "language_info": {
   "codemirror_mode": {
    "name": "ipython",
    "version": 3
   },
   "file_extension": ".py",
   "mimetype": "text/x-python",
   "name": "python",
   "nbconvert_exporter": "python",
   "pygments_lexer": "ipython3",
   "version": "3.12.5"
  }
 },
 "nbformat": 4,
 "nbformat_minor": 2
}
