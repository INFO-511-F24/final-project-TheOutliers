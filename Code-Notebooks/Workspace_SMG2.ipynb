{
 "cells": [
  {
   "cell_type": "markdown",
   "metadata": {},
   "source": [
    "## Workspace - Sarah ##"
   ]
  },
  {
   "cell_type": "code",
   "execution_count": 36,
   "metadata": {},
   "outputs": [],
   "source": [
    "# Import Libraries\n",
    "import pandas as pd\n",
    "import numpy as np\n",
    "import seaborn as sns"
   ]
  },
  {
   "cell_type": "code",
   "execution_count": 37,
   "metadata": {},
   "outputs": [],
   "source": [
    "# Load Data\n",
    "nutrition = pd.read_csv('../data/Nutrition.csv')"
   ]
  },
  {
   "cell_type": "code",
   "execution_count": 38,
   "metadata": {},
   "outputs": [],
   "source": [
    "# Copy for Cleaning\n",
    "nutrition_1 = nutrition.copy()\n",
    "#nutrition_1.info()"
   ]
  },
  {
   "cell_type": "code",
   "execution_count": 39,
   "metadata": {},
   "outputs": [
    {
     "name": "stdout",
     "output_type": "stream",
     "text": [
      "<class 'pandas.core.frame.DataFrame'>\n",
      "Index: 93505 entries, 0 to 104271\n",
      "Data columns (total 33 columns):\n",
      " #   Column                      Non-Null Count  Dtype  \n",
      "---  ------                      --------------  -----  \n",
      " 0   YearStart                   93505 non-null  int64  \n",
      " 1   YearEnd                     93505 non-null  int64  \n",
      " 2   LocationAbbr                93505 non-null  object \n",
      " 3   LocationDesc                93505 non-null  object \n",
      " 4   Datasource                  93505 non-null  object \n",
      " 5   Class                       93505 non-null  object \n",
      " 6   Topic                       93505 non-null  object \n",
      " 7   Question                    93505 non-null  object \n",
      " 8   Data_Value_Unit             79851 non-null  float64\n",
      " 9   Data_Value_Type             93505 non-null  object \n",
      " 10  Data_Value                  93505 non-null  float64\n",
      " 11  Data_Value_Alt              93505 non-null  float64\n",
      " 12  Data_Value_Footnote_Symbol  0 non-null      object \n",
      " 13  Data_Value_Footnote         0 non-null      object \n",
      " 14  Low_Confidence_Limit        93505 non-null  float64\n",
      " 15  High_Confidence_Limit       93505 non-null  float64\n",
      " 16  Sample_Size                 93505 non-null  float64\n",
      " 17  Total                       3684 non-null   object \n",
      " 18  Age(years)                  22104 non-null  object \n",
      " 19  Education                   14736 non-null  object \n",
      " 20  Gender                      7368 non-null   object \n",
      " 21  Income                      25783 non-null  object \n",
      " 22  Race/Ethnicity              19830 non-null  object \n",
      " 23  GeoLocation                 91576 non-null  object \n",
      " 24  ClassID                     93505 non-null  object \n",
      " 25  TopicID                     93505 non-null  object \n",
      " 26  QuestionID                  93505 non-null  object \n",
      " 27  DataValueTypeID             93505 non-null  object \n",
      " 28  LocationID                  93505 non-null  int64  \n",
      " 29  StratificationCategory1     93505 non-null  object \n",
      " 30  Stratification1             93505 non-null  object \n",
      " 31  StratificationCategoryId1   93505 non-null  object \n",
      " 32  StratificationID1           93505 non-null  object \n",
      "dtypes: float64(6), int64(3), object(24)\n",
      "memory usage: 24.3+ MB\n"
     ]
    }
   ],
   "source": [
    "# Percent of Adults who Engage in No Leisure-Time Physical Activity - Investigate\n",
    "no_lesisure = (nutrition_1[nutrition_1['Question'] == 'Percent of adults who engage in no leisure-time physical activity'])\n",
    "no_lesisure = (nutrition_1[nutrition_1['Data_Value_Footnote_Symbol'] != '~'])\n",
    "no_lesisure.info()\n"
   ]
  }
 ],
 "metadata": {
  "kernelspec": {
   "display_name": "py38",
   "language": "python",
   "name": "python3"
  },
  "language_info": {
   "codemirror_mode": {
    "name": "ipython",
    "version": 3
   },
   "file_extension": ".py",
   "mimetype": "text/x-python",
   "name": "python",
   "nbconvert_exporter": "python",
   "pygments_lexer": "ipython3",
   "version": "3.12.4"
  }
 },
 "nbformat": 4,
 "nbformat_minor": 2
}
