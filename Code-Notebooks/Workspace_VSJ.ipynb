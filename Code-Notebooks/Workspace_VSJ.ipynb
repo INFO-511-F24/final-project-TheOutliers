{
 "cells": [
  {
   "cell_type": "markdown",
   "metadata": {},
   "source": [
    "# Notebook to test data \n",
    "### Vera Jackson "
   ]
  },
  {
   "cell_type": "markdown",
   "metadata": {},
   "source": [
    "## Packages\n"
   ]
  },
  {
   "cell_type": "code",
   "execution_count": 1,
   "metadata": {},
   "outputs": [],
   "source": [
    "import pandas as pd\n",
    "import seaborn as sns\n",
    "import matplotlib.pyplot as plt"
   ]
  },
  {
   "cell_type": "markdown",
   "metadata": {},
   "source": [
    "## Load data"
   ]
  },
  {
   "cell_type": "code",
   "execution_count": 6,
   "metadata": {},
   "outputs": [
    {
     "name": "stdout",
     "output_type": "stream",
     "text": [
      "<class 'pandas.core.frame.DataFrame'>\n",
      "RangeIndex: 104272 entries, 0 to 104271\n",
      "Data columns (total 33 columns):\n",
      " #   Column                      Non-Null Count   Dtype  \n",
      "---  ------                      --------------   -----  \n",
      " 0   YearStart                   104272 non-null  int64  \n",
      " 1   YearEnd                     104272 non-null  int64  \n",
      " 2   LocationAbbr                104272 non-null  object \n",
      " 3   LocationDesc                104272 non-null  object \n",
      " 4   Datasource                  104272 non-null  object \n",
      " 5   Class                       104272 non-null  object \n",
      " 6   Topic                       104272 non-null  object \n",
      " 7   Question                    104272 non-null  object \n",
      " 8   Data_Value_Unit             88872 non-null   float64\n",
      " 9   Data_Value_Type             104272 non-null  object \n",
      " 10  Data_Value                  93505 non-null   float64\n",
      " 11  Data_Value_Alt              93505 non-null   float64\n",
      " 12  Data_Value_Footnote_Symbol  10767 non-null   object \n",
      " 13  Data_Value_Footnote         10767 non-null   object \n",
      " 14  Low_Confidence_Limit        93505 non-null   float64\n",
      " 15  High_Confidence_Limit       93505 non-null   float64\n",
      " 16  Sample_Size                 93505 non-null   float64\n",
      " 17  Total                       3724 non-null    object \n",
      " 18  Age(years)                  22344 non-null   object \n",
      " 19  Education                   14896 non-null   object \n",
      " 20  Gender                      7448 non-null    object \n",
      " 21  Income                      26068 non-null   object \n",
      " 22  Race/Ethnicity              29792 non-null   object \n",
      " 23  GeoLocation                 102340 non-null  object \n",
      " 24  ClassID                     104272 non-null  object \n",
      " 25  TopicID                     104272 non-null  object \n",
      " 26  QuestionID                  104272 non-null  object \n",
      " 27  DataValueTypeID             104272 non-null  object \n",
      " 28  LocationID                  104272 non-null  int64  \n",
      " 29  StratificationCategory1     104272 non-null  object \n",
      " 30  Stratification1             104272 non-null  object \n",
      " 31  StratificationCategoryId1   104272 non-null  object \n",
      " 32  StratificationID1           104272 non-null  object \n",
      "dtypes: float64(6), int64(3), object(24)\n",
      "memory usage: 26.3+ MB\n"
     ]
    }
   ],
   "source": [
    "nutrition = pd.read_csv(\"../data/Nutrition.csv\")\n",
    "\n",
    "nutrition.info()"
   ]
  },
  {
   "cell_type": "markdown",
   "metadata": {},
   "source": [
    "There are 33 columns, and **104,272** rows or observations"
   ]
  },
  {
   "cell_type": "code",
   "execution_count": 7,
   "metadata": {},
   "outputs": [
    {
     "data": {
      "text/plain": [
       "array([2011, 2012, 2013, 2014, 2015, 2016, 2017, 2018, 2019, 2020, 2021,\n",
       "       2022, 2023], dtype=int64)"
      ]
     },
     "execution_count": 7,
     "metadata": {},
     "output_type": "execute_result"
    }
   ],
   "source": [
    "nutrition['YearStart'].unique()"
   ]
  }
 ],
 "metadata": {
  "kernelspec": {
   "display_name": "base",
   "language": "python",
   "name": "python3"
  },
  "language_info": {
   "codemirror_mode": {
    "name": "ipython",
    "version": 3
   },
   "file_extension": ".py",
   "mimetype": "text/x-python",
   "name": "python",
   "nbconvert_exporter": "python",
   "pygments_lexer": "ipython3",
   "version": "3.11.5"
  }
 },
 "nbformat": 4,
 "nbformat_minor": 2
}
